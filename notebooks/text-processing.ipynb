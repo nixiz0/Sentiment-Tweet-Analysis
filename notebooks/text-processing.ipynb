{
 "cells": [
  {
   "cell_type": "markdown",
   "id": "d9faabfb",
   "metadata": {},
   "source": [
    "# **1-Perform sentiment analysis using Deep Learning**\n",
    "Exploratory analysis and text processing."
   ]
  },
  {
   "cell_type": "markdown",
   "id": "5340b552",
   "metadata": {},
   "source": [
    "* [I. Text Analysis & Processing](#i-text-analysis-processing)\n",
    "    - [A. Analysis](#a-text-analysis)\n",
    "        * [1- Dataset Information](#1-dataset-information)\n",
    "        * [2- Selecting relevant columns](#2-relevant-columns)\n",
    "        * [3- Target identification](#3-target)\n",
    "    - [B. Processing](#b-processing)\n",
    "        * [1- Cleaned text](#1-cleaned-text)\n",
    "        * [2- Analysis after cleaning](#2-after-clean)"
   ]
  },
  {
   "cell_type": "code",
   "execution_count": 144,
   "id": "4f142cbc",
   "metadata": {},
   "outputs": [],
   "source": [
    "import numpy as np\n",
    "import pandas as pd\n",
    "import matplotlib.pyplot as plt\n",
    "import seaborn as sns \n",
    "import nltk\n",
    "import string\n",
    "import re\n",
    "\n",
    "from collections import Counter\n",
    "from nltk.stem import WordNetLemmatizer, PorterStemmer\n",
    "from nltk.corpus import stopwords\n",
    "from nltk.tokenize import word_tokenize"
   ]
  },
  {
   "cell_type": "code",
   "execution_count": 145,
   "id": "0a7b22ed",
   "metadata": {},
   "outputs": [
    {
     "name": "stderr",
     "output_type": "stream",
     "text": [
      "[nltk_data] Downloading package stopwords to\n",
      "[nltk_data]     C:\\Users\\julia\\AppData\\Roaming\\nltk_data...\n",
      "[nltk_data]   Package stopwords is already up-to-date!\n",
      "[nltk_data] Downloading package wordnet to\n",
      "[nltk_data]     C:\\Users\\julia\\AppData\\Roaming\\nltk_data...\n",
      "[nltk_data]   Package wordnet is already up-to-date!\n"
     ]
    },
    {
     "data": {
      "text/plain": [
       "True"
      ]
     },
     "execution_count": 145,
     "metadata": {},
     "output_type": "execute_result"
    }
   ],
   "source": [
    "nltk.download('stopwords')\n",
    "nltk.download('wordnet')"
   ]
  },
  {
   "cell_type": "code",
   "execution_count": 146,
   "id": "262d8e74",
   "metadata": {},
   "outputs": [
    {
     "name": "stdout",
     "output_type": "stream",
     "text": [
      "numpy - 1.26.3\n",
      "pandas - 2.2.0\n",
      "seaborn - 0.13.1\n",
      "nltk - 3.8.1\n",
      "re - 2.2.1\n"
     ]
    }
   ],
   "source": [
    "# Version of the libraries used\n",
    "print('\\n'.join(f'{m.__name__} - {m.__version__}' \n",
    "                for m in globals().values() \n",
    "                if getattr(m, '__version__', None)))    "
   ]
  },
  {
   "cell_type": "markdown",
   "id": "d0ead3d6",
   "metadata": {},
   "source": [
    "You have to downloaded the csv dataset on this link : **https://www.kaggle.com/datasets/kazanova/sentiment140**.\n",
    "\n",
    "After you have downloaded the csv file you have to put in the folder *data*."
   ]
  },
  {
   "cell_type": "markdown",
   "id": "cc225097",
   "metadata": {},
   "source": [
    "---\n",
    "<a id='i-text-analysis-processing'></a>\n",
    "# **I. Text Analysis & Processing**\n",
    "Text analysis to understand our textual dataset and cleaning for use in future models."
   ]
  },
  {
   "cell_type": "markdown",
   "id": "f91bd6d5",
   "metadata": {},
   "source": [
    "<a id='a-text-analysis'></a>\n",
    "### **A. Text Analysis**\n",
    "Exploratory analysis to better understand our data and find the information that will be important and that which can be deleted in the cleaning section.\n",
    "\n",
    "<a id='1-dataset-information'></a>\n",
    "**1- Dataset information**    "
   ]
  },
  {
   "cell_type": "code",
   "execution_count": 147,
   "id": "5fe4a712",
   "metadata": {},
   "outputs": [],
   "source": [
    "# Read CSV file\n",
    "df = pd.read_csv('../data/dataset.csv', encoding='latin1')"
   ]
  },
  {
   "cell_type": "code",
   "execution_count": 148,
   "id": "49f1251f",
   "metadata": {},
   "outputs": [
    {
     "data": {
      "text/html": [
       "<div>\n",
       "<style scoped>\n",
       "    .dataframe tbody tr th:only-of-type {\n",
       "        vertical-align: middle;\n",
       "    }\n",
       "\n",
       "    .dataframe tbody tr th {\n",
       "        vertical-align: top;\n",
       "    }\n",
       "\n",
       "    .dataframe thead th {\n",
       "        text-align: right;\n",
       "    }\n",
       "</style>\n",
       "<table border=\"1\" class=\"dataframe\">\n",
       "  <thead>\n",
       "    <tr style=\"text-align: right;\">\n",
       "      <th></th>\n",
       "      <th>0</th>\n",
       "      <th>1467810369</th>\n",
       "      <th>Mon Apr 06 22:19:45 PDT 2009</th>\n",
       "      <th>NO_QUERY</th>\n",
       "      <th>_TheSpecialOne_</th>\n",
       "      <th>@switchfoot http://twitpic.com/2y1zl - Awww, that's a bummer.  You shoulda got David Carr of Third Day to do it. ;D</th>\n",
       "    </tr>\n",
       "  </thead>\n",
       "  <tbody>\n",
       "    <tr>\n",
       "      <th>0</th>\n",
       "      <td>0</td>\n",
       "      <td>1467810672</td>\n",
       "      <td>Mon Apr 06 22:19:49 PDT 2009</td>\n",
       "      <td>NO_QUERY</td>\n",
       "      <td>scotthamilton</td>\n",
       "      <td>is upset that he can't update his Facebook by ...</td>\n",
       "    </tr>\n",
       "    <tr>\n",
       "      <th>1</th>\n",
       "      <td>0</td>\n",
       "      <td>1467810917</td>\n",
       "      <td>Mon Apr 06 22:19:53 PDT 2009</td>\n",
       "      <td>NO_QUERY</td>\n",
       "      <td>mattycus</td>\n",
       "      <td>@Kenichan I dived many times for the ball. Man...</td>\n",
       "    </tr>\n",
       "    <tr>\n",
       "      <th>2</th>\n",
       "      <td>0</td>\n",
       "      <td>1467811184</td>\n",
       "      <td>Mon Apr 06 22:19:57 PDT 2009</td>\n",
       "      <td>NO_QUERY</td>\n",
       "      <td>ElleCTF</td>\n",
       "      <td>my whole body feels itchy and like its on fire</td>\n",
       "    </tr>\n",
       "    <tr>\n",
       "      <th>3</th>\n",
       "      <td>0</td>\n",
       "      <td>1467811193</td>\n",
       "      <td>Mon Apr 06 22:19:57 PDT 2009</td>\n",
       "      <td>NO_QUERY</td>\n",
       "      <td>Karoli</td>\n",
       "      <td>@nationwideclass no, it's not behaving at all....</td>\n",
       "    </tr>\n",
       "    <tr>\n",
       "      <th>4</th>\n",
       "      <td>0</td>\n",
       "      <td>1467811372</td>\n",
       "      <td>Mon Apr 06 22:20:00 PDT 2009</td>\n",
       "      <td>NO_QUERY</td>\n",
       "      <td>joy_wolf</td>\n",
       "      <td>@Kwesidei not the whole crew</td>\n",
       "    </tr>\n",
       "  </tbody>\n",
       "</table>\n",
       "</div>"
      ],
      "text/plain": [
       "   0  1467810369  Mon Apr 06 22:19:45 PDT 2009  NO_QUERY _TheSpecialOne_  \\\n",
       "0  0  1467810672  Mon Apr 06 22:19:49 PDT 2009  NO_QUERY   scotthamilton   \n",
       "1  0  1467810917  Mon Apr 06 22:19:53 PDT 2009  NO_QUERY        mattycus   \n",
       "2  0  1467811184  Mon Apr 06 22:19:57 PDT 2009  NO_QUERY         ElleCTF   \n",
       "3  0  1467811193  Mon Apr 06 22:19:57 PDT 2009  NO_QUERY          Karoli   \n",
       "4  0  1467811372  Mon Apr 06 22:20:00 PDT 2009  NO_QUERY        joy_wolf   \n",
       "\n",
       "  @switchfoot http://twitpic.com/2y1zl - Awww, that's a bummer.  You shoulda got David Carr of Third Day to do it. ;D  \n",
       "0  is upset that he can't update his Facebook by ...                                                                   \n",
       "1  @Kenichan I dived many times for the ball. Man...                                                                   \n",
       "2    my whole body feels itchy and like its on fire                                                                    \n",
       "3  @nationwideclass no, it's not behaving at all....                                                                   \n",
       "4                      @Kwesidei not the whole crew                                                                    "
      ]
     },
     "execution_count": 148,
     "metadata": {},
     "output_type": "execute_result"
    }
   ],
   "source": [
    "# Show first rows of dataframe\n",
    "df.head()"
   ]
  },
  {
   "cell_type": "markdown",
   "id": "edac63da",
   "metadata": {},
   "source": [
    "We see that on all the 6 columns there is the 'Target' and 'Text' column which will be used here."
   ]
  },
  {
   "cell_type": "code",
   "execution_count": 149,
   "id": "50214155",
   "metadata": {},
   "outputs": [
    {
     "data": {
      "text/plain": [
       "(1599999, 6)"
      ]
     },
     "execution_count": 149,
     "metadata": {},
     "output_type": "execute_result"
    }
   ],
   "source": [
    "df.shape"
   ]
  },
  {
   "cell_type": "code",
   "execution_count": 150,
   "id": "1d3ac6fd",
   "metadata": {},
   "outputs": [
    {
     "name": "stdout",
     "output_type": "stream",
     "text": [
      "<class 'pandas.core.frame.DataFrame'>\n",
      "RangeIndex: 1599999 entries, 0 to 1599998\n",
      "Data columns (total 6 columns):\n",
      " #   Column                                                                                                               Non-Null Count    Dtype \n",
      "---  ------                                                                                                               --------------    ----- \n",
      " 0   0                                                                                                                    1599999 non-null  int64 \n",
      " 1   1467810369                                                                                                           1599999 non-null  int64 \n",
      " 2   Mon Apr 06 22:19:45 PDT 2009                                                                                         1599999 non-null  object\n",
      " 3   NO_QUERY                                                                                                             1599999 non-null  object\n",
      " 4   _TheSpecialOne_                                                                                                      1599999 non-null  object\n",
      " 5   @switchfoot http://twitpic.com/2y1zl - Awww, that's a bummer.  You shoulda got David Carr of Third Day to do it. ;D  1599999 non-null  object\n",
      "dtypes: int64(2), object(4)\n",
      "memory usage: 73.2+ MB\n"
     ]
    }
   ],
   "source": [
    "# Show dataframe information\n",
    "df.info()"
   ]
  },
  {
   "cell_type": "markdown",
   "id": "3fc608e1",
   "metadata": {},
   "source": [
    "We have 1.6 million data points and no missing values."
   ]
  },
  {
   "cell_type": "code",
   "execution_count": 151,
   "id": "8e778057",
   "metadata": {},
   "outputs": [
    {
     "data": {
      "text/html": [
       "<div>\n",
       "<style scoped>\n",
       "    .dataframe tbody tr th:only-of-type {\n",
       "        vertical-align: middle;\n",
       "    }\n",
       "\n",
       "    .dataframe tbody tr th {\n",
       "        vertical-align: top;\n",
       "    }\n",
       "\n",
       "    .dataframe thead th {\n",
       "        text-align: right;\n",
       "    }\n",
       "</style>\n",
       "<table border=\"1\" class=\"dataframe\">\n",
       "  <thead>\n",
       "    <tr style=\"text-align: right;\">\n",
       "      <th></th>\n",
       "      <th>0</th>\n",
       "      <th>1467810369</th>\n",
       "      <th>Mon Apr 06 22:19:45 PDT 2009</th>\n",
       "      <th>NO_QUERY</th>\n",
       "      <th>_TheSpecialOne_</th>\n",
       "      <th>@switchfoot http://twitpic.com/2y1zl - Awww, that's a bummer.  You shoulda got David Carr of Third Day to do it. ;D</th>\n",
       "    </tr>\n",
       "  </thead>\n",
       "  <tbody>\n",
       "    <tr>\n",
       "      <th>0</th>\n",
       "      <td>0</td>\n",
       "      <td>1467810672</td>\n",
       "      <td>Mon Apr 06 22:19:49 PDT 2009</td>\n",
       "      <td>NO_QUERY</td>\n",
       "      <td>scotthamilton</td>\n",
       "      <td>is upset that he can't update his Facebook by ...</td>\n",
       "    </tr>\n",
       "    <tr>\n",
       "      <th>1</th>\n",
       "      <td>0</td>\n",
       "      <td>1467810917</td>\n",
       "      <td>Mon Apr 06 22:19:53 PDT 2009</td>\n",
       "      <td>NO_QUERY</td>\n",
       "      <td>mattycus</td>\n",
       "      <td>@Kenichan I dived many times for the ball. Man...</td>\n",
       "    </tr>\n",
       "    <tr>\n",
       "      <th>2</th>\n",
       "      <td>0</td>\n",
       "      <td>1467811184</td>\n",
       "      <td>Mon Apr 06 22:19:57 PDT 2009</td>\n",
       "      <td>NO_QUERY</td>\n",
       "      <td>ElleCTF</td>\n",
       "      <td>my whole body feels itchy and like its on fire</td>\n",
       "    </tr>\n",
       "  </tbody>\n",
       "</table>\n",
       "</div>"
      ],
      "text/plain": [
       "   0  1467810369  Mon Apr 06 22:19:45 PDT 2009  NO_QUERY _TheSpecialOne_  \\\n",
       "0  0  1467810672  Mon Apr 06 22:19:49 PDT 2009  NO_QUERY   scotthamilton   \n",
       "1  0  1467810917  Mon Apr 06 22:19:53 PDT 2009  NO_QUERY        mattycus   \n",
       "2  0  1467811184  Mon Apr 06 22:19:57 PDT 2009  NO_QUERY         ElleCTF   \n",
       "\n",
       "  @switchfoot http://twitpic.com/2y1zl - Awww, that's a bummer.  You shoulda got David Carr of Third Day to do it. ;D  \n",
       "0  is upset that he can't update his Facebook by ...                                                                   \n",
       "1  @Kenichan I dived many times for the ball. Man...                                                                   \n",
       "2    my whole body feels itchy and like its on fire                                                                    "
      ]
     },
     "metadata": {},
     "output_type": "display_data"
    },
    {
     "data": {
      "text/html": [
       "<div>\n",
       "<style scoped>\n",
       "    .dataframe tbody tr th:only-of-type {\n",
       "        vertical-align: middle;\n",
       "    }\n",
       "\n",
       "    .dataframe tbody tr th {\n",
       "        vertical-align: top;\n",
       "    }\n",
       "\n",
       "    .dataframe thead th {\n",
       "        text-align: right;\n",
       "    }\n",
       "</style>\n",
       "<table border=\"1\" class=\"dataframe\">\n",
       "  <thead>\n",
       "    <tr style=\"text-align: right;\">\n",
       "      <th></th>\n",
       "      <th>0</th>\n",
       "      <th>1467810369</th>\n",
       "      <th>Mon Apr 06 22:19:45 PDT 2009</th>\n",
       "      <th>NO_QUERY</th>\n",
       "      <th>_TheSpecialOne_</th>\n",
       "      <th>@switchfoot http://twitpic.com/2y1zl - Awww, that's a bummer.  You shoulda got David Carr of Third Day to do it. ;D</th>\n",
       "    </tr>\n",
       "  </thead>\n",
       "  <tbody>\n",
       "    <tr>\n",
       "      <th>1599996</th>\n",
       "      <td>4</td>\n",
       "      <td>2193601991</td>\n",
       "      <td>Tue Jun 16 08:40:49 PDT 2009</td>\n",
       "      <td>NO_QUERY</td>\n",
       "      <td>bpbabe</td>\n",
       "      <td>Are you ready for your MoJo Makeover? Ask me f...</td>\n",
       "    </tr>\n",
       "    <tr>\n",
       "      <th>1599997</th>\n",
       "      <td>4</td>\n",
       "      <td>2193602064</td>\n",
       "      <td>Tue Jun 16 08:40:49 PDT 2009</td>\n",
       "      <td>NO_QUERY</td>\n",
       "      <td>tinydiamondz</td>\n",
       "      <td>Happy 38th Birthday to my boo of alll time!!! ...</td>\n",
       "    </tr>\n",
       "    <tr>\n",
       "      <th>1599998</th>\n",
       "      <td>4</td>\n",
       "      <td>2193602129</td>\n",
       "      <td>Tue Jun 16 08:40:50 PDT 2009</td>\n",
       "      <td>NO_QUERY</td>\n",
       "      <td>RyanTrevMorris</td>\n",
       "      <td>happy #charitytuesday @theNSPCC @SparksCharity...</td>\n",
       "    </tr>\n",
       "  </tbody>\n",
       "</table>\n",
       "</div>"
      ],
      "text/plain": [
       "         0  1467810369  Mon Apr 06 22:19:45 PDT 2009  NO_QUERY  \\\n",
       "1599996  4  2193601991  Tue Jun 16 08:40:49 PDT 2009  NO_QUERY   \n",
       "1599997  4  2193602064  Tue Jun 16 08:40:49 PDT 2009  NO_QUERY   \n",
       "1599998  4  2193602129  Tue Jun 16 08:40:50 PDT 2009  NO_QUERY   \n",
       "\n",
       "        _TheSpecialOne_  \\\n",
       "1599996          bpbabe   \n",
       "1599997    tinydiamondz   \n",
       "1599998  RyanTrevMorris   \n",
       "\n",
       "        @switchfoot http://twitpic.com/2y1zl - Awww, that's a bummer.  You shoulda got David Carr of Third Day to do it. ;D  \n",
       "1599996  Are you ready for your MoJo Makeover? Ask me f...                                                                   \n",
       "1599997  Happy 38th Birthday to my boo of alll time!!! ...                                                                   \n",
       "1599998  happy #charitytuesday @theNSPCC @SparksCharity...                                                                   "
      ]
     },
     "metadata": {},
     "output_type": "display_data"
    }
   ],
   "source": [
    "# Show first and last rows of dataframe\n",
    "display(df.head(3), df.tail(3))"
   ]
  },
  {
   "cell_type": "markdown",
   "id": "14787143",
   "metadata": {},
   "source": [
    "<a id='2-relevant-columns'></a>\n",
    "**2- Selecting relevant columns**   "
   ]
  },
  {
   "cell_type": "code",
   "execution_count": 152,
   "id": "d7761ca1",
   "metadata": {},
   "outputs": [
    {
     "data": {
      "text/html": [
       "<div>\n",
       "<style scoped>\n",
       "    .dataframe tbody tr th:only-of-type {\n",
       "        vertical-align: middle;\n",
       "    }\n",
       "\n",
       "    .dataframe tbody tr th {\n",
       "        vertical-align: top;\n",
       "    }\n",
       "\n",
       "    .dataframe thead th {\n",
       "        text-align: right;\n",
       "    }\n",
       "</style>\n",
       "<table border=\"1\" class=\"dataframe\">\n",
       "  <thead>\n",
       "    <tr style=\"text-align: right;\">\n",
       "      <th></th>\n",
       "      <th>target</th>\n",
       "      <th>ids</th>\n",
       "      <th>date</th>\n",
       "      <th>flag</th>\n",
       "      <th>user</th>\n",
       "      <th>text</th>\n",
       "    </tr>\n",
       "  </thead>\n",
       "  <tbody>\n",
       "    <tr>\n",
       "      <th>0</th>\n",
       "      <td>0</td>\n",
       "      <td>1467810672</td>\n",
       "      <td>Mon Apr 06 22:19:49 PDT 2009</td>\n",
       "      <td>NO_QUERY</td>\n",
       "      <td>scotthamilton</td>\n",
       "      <td>is upset that he can't update his Facebook by ...</td>\n",
       "    </tr>\n",
       "    <tr>\n",
       "      <th>1</th>\n",
       "      <td>0</td>\n",
       "      <td>1467810917</td>\n",
       "      <td>Mon Apr 06 22:19:53 PDT 2009</td>\n",
       "      <td>NO_QUERY</td>\n",
       "      <td>mattycus</td>\n",
       "      <td>@Kenichan I dived many times for the ball. Man...</td>\n",
       "    </tr>\n",
       "  </tbody>\n",
       "</table>\n",
       "</div>"
      ],
      "text/plain": [
       "   target         ids                          date      flag           user  \\\n",
       "0       0  1467810672  Mon Apr 06 22:19:49 PDT 2009  NO_QUERY  scotthamilton   \n",
       "1       0  1467810917  Mon Apr 06 22:19:53 PDT 2009  NO_QUERY       mattycus   \n",
       "\n",
       "                                                text  \n",
       "0  is upset that he can't update his Facebook by ...  \n",
       "1  @Kenichan I dived many times for the ball. Man...  "
      ]
     },
     "metadata": {},
     "output_type": "display_data"
    }
   ],
   "source": [
    "# Rename column name\n",
    "df.columns = ['target', 'ids', 'date', 'flag', 'user', 'text']\n",
    "display(df.head(2))"
   ]
  },
  {
   "cell_type": "markdown",
   "id": "36e9cd56",
   "metadata": {},
   "source": [
    "We put the name of the columns that we retrieved from [Kaggle](https://www.kaggle.com/datasets/kazanova/sentiment140).   "
   ]
  },
  {
   "cell_type": "code",
   "execution_count": 153,
   "metadata": {},
   "outputs": [
    {
     "data": {
      "text/html": [
       "<div>\n",
       "<style scoped>\n",
       "    .dataframe tbody tr th:only-of-type {\n",
       "        vertical-align: middle;\n",
       "    }\n",
       "\n",
       "    .dataframe tbody tr th {\n",
       "        vertical-align: top;\n",
       "    }\n",
       "\n",
       "    .dataframe thead th {\n",
       "        text-align: right;\n",
       "    }\n",
       "</style>\n",
       "<table border=\"1\" class=\"dataframe\">\n",
       "  <thead>\n",
       "    <tr style=\"text-align: right;\">\n",
       "      <th></th>\n",
       "      <th>target</th>\n",
       "      <th>text</th>\n",
       "    </tr>\n",
       "  </thead>\n",
       "  <tbody>\n",
       "    <tr>\n",
       "      <th>0</th>\n",
       "      <td>0</td>\n",
       "      <td>is upset that he can't update his Facebook by ...</td>\n",
       "    </tr>\n",
       "    <tr>\n",
       "      <th>1</th>\n",
       "      <td>0</td>\n",
       "      <td>@Kenichan I dived many times for the ball. Man...</td>\n",
       "    </tr>\n",
       "    <tr>\n",
       "      <th>2</th>\n",
       "      <td>0</td>\n",
       "      <td>my whole body feels itchy and like its on fire</td>\n",
       "    </tr>\n",
       "    <tr>\n",
       "      <th>3</th>\n",
       "      <td>0</td>\n",
       "      <td>@nationwideclass no, it's not behaving at all....</td>\n",
       "    </tr>\n",
       "    <tr>\n",
       "      <th>4</th>\n",
       "      <td>0</td>\n",
       "      <td>@Kwesidei not the whole crew</td>\n",
       "    </tr>\n",
       "    <tr>\n",
       "      <th>...</th>\n",
       "      <td>...</td>\n",
       "      <td>...</td>\n",
       "    </tr>\n",
       "    <tr>\n",
       "      <th>1599994</th>\n",
       "      <td>4</td>\n",
       "      <td>Just woke up. Having no school is the best fee...</td>\n",
       "    </tr>\n",
       "    <tr>\n",
       "      <th>1599995</th>\n",
       "      <td>4</td>\n",
       "      <td>TheWDB.com - Very cool to hear old Walt interv...</td>\n",
       "    </tr>\n",
       "    <tr>\n",
       "      <th>1599996</th>\n",
       "      <td>4</td>\n",
       "      <td>Are you ready for your MoJo Makeover? Ask me f...</td>\n",
       "    </tr>\n",
       "    <tr>\n",
       "      <th>1599997</th>\n",
       "      <td>4</td>\n",
       "      <td>Happy 38th Birthday to my boo of alll time!!! ...</td>\n",
       "    </tr>\n",
       "    <tr>\n",
       "      <th>1599998</th>\n",
       "      <td>4</td>\n",
       "      <td>happy #charitytuesday @theNSPCC @SparksCharity...</td>\n",
       "    </tr>\n",
       "  </tbody>\n",
       "</table>\n",
       "<p>1599999 rows × 2 columns</p>\n",
       "</div>"
      ],
      "text/plain": [
       "         target                                               text\n",
       "0             0  is upset that he can't update his Facebook by ...\n",
       "1             0  @Kenichan I dived many times for the ball. Man...\n",
       "2             0    my whole body feels itchy and like its on fire \n",
       "3             0  @nationwideclass no, it's not behaving at all....\n",
       "4             0                      @Kwesidei not the whole crew \n",
       "...         ...                                                ...\n",
       "1599994       4  Just woke up. Having no school is the best fee...\n",
       "1599995       4  TheWDB.com - Very cool to hear old Walt interv...\n",
       "1599996       4  Are you ready for your MoJo Makeover? Ask me f...\n",
       "1599997       4  Happy 38th Birthday to my boo of alll time!!! ...\n",
       "1599998       4  happy #charitytuesday @theNSPCC @SparksCharity...\n",
       "\n",
       "[1599999 rows x 2 columns]"
      ]
     },
     "metadata": {},
     "output_type": "display_data"
    }
   ],
   "source": [
    "df_selected = df[['target', 'text']]\n",
    "display(df_selected)"
   ]
  },
  {
   "cell_type": "markdown",
   "id": "f67b52e0",
   "metadata": {},
   "source": [
    "<a id='3-target'></a>\n",
    "**3- Target identification**    "
   ]
  },
  {
   "cell_type": "code",
   "execution_count": 154,
   "id": "5f39ae91",
   "metadata": {},
   "outputs": [
    {
     "data": {
      "text/plain": [
       "target\n",
       "4    800000\n",
       "0    799999\n",
       "Name: count, dtype: int64"
      ]
     },
     "execution_count": 154,
     "metadata": {},
     "output_type": "execute_result"
    }
   ],
   "source": [
    "df_selected['target'].value_counts()"
   ]
  },
  {
   "cell_type": "markdown",
   "id": "ebdc6a26",
   "metadata": {},
   "source": [
    "**Caption for the targets :**\n",
    "- 0 = Negative\n",
    "- 4 = Positive"
   ]
  },
  {
   "cell_type": "code",
   "execution_count": 155,
   "id": "58b9c065",
   "metadata": {},
   "outputs": [
    {
     "data": {
      "image/png": "[encoded data removed]",
      "text/plain": [
       "<Figure size 1000x600 with 1 Axes>"
      ]
     },
     "metadata": {},
     "output_type": "display_data"
    }
   ],
   "source": [
    "# Calculation of values ​​for each sector\n",
    "values = df_selected['target'].value_counts()\n",
    "labels = ['Positif' if label == 4 else 'Negatif' for label in values.index]\n",
    "\n",
    "# Creating the pie chart\n",
    "plt.figure(figsize=(10, 6))\n",
    "plt.pie(values, labels=labels, autopct='%1.1f%%', startangle=140)\n",
    "plt.title(\"Distribution of 'Target' column\")\n",
    "plt.show()"
   ]
  },
  {
   "cell_type": "markdown",
   "id": "8e0aeb2b",
   "metadata": {},
   "source": [
    "We have balanced classes, 50% positive and 50% negative so we will not need to rebalance the classes."
   ]
  },
  {
   "cell_type": "code",
   "execution_count": 156,
   "id": "55abf21e",
   "metadata": {},
   "outputs": [
    {
     "data": {
      "text/plain": [
       "0          is upset that he can't update his Facebook by ...\n",
       "1          @Kenichan I dived many times for the ball. Man...\n",
       "2            my whole body feels itchy and like its on fire \n",
       "3          @nationwideclass no, it's not behaving at all....\n",
       "4                              @Kwesidei not the whole crew \n",
       "                                 ...                        \n",
       "1599994    Just woke up. Having no school is the best fee...\n",
       "1599995    TheWDB.com - Very cool to hear old Walt interv...\n",
       "1599996    Are you ready for your MoJo Makeover? Ask me f...\n",
       "1599997    Happy 38th Birthday to my boo of alll time!!! ...\n",
       "1599998    happy #charitytuesday @theNSPCC @SparksCharity...\n",
       "Name: text, Length: 1599999, dtype: object"
      ]
     },
     "execution_count": 156,
     "metadata": {},
     "output_type": "execute_result"
    }
   ],
   "source": [
    "df_selected['text']"
   ]
  },
  {
   "cell_type": "code",
   "execution_count": 157,
   "id": "b7e44ab5",
   "metadata": {},
   "outputs": [
    {
     "name": "stdout",
     "output_type": "stream",
     "text": [
      "The average number of words in each line is 13.176146985091865\n",
      "\n"
     ]
    },
    {
     "name": "stderr",
     "output_type": "stream",
     "text": [
      "C:\\Users\\julia\\AppData\\Local\\Temp\\ipykernel_10512\\2881711003.py:2: SettingWithCopyWarning: \n",
      "A value is trying to be set on a copy of a slice from a DataFrame.\n",
      "Try using .loc[row_indexer,col_indexer] = value instead\n",
      "\n",
      "See the caveats in the documentation: https://pandas.pydata.org/pandas-docs/stable/user_guide/indexing.html#returning-a-view-versus-a-copy\n",
      "  df_selected.loc[:, 'word_count'] = df_selected['text'].apply(lambda x: len(x.split()))\n"
     ]
    }
   ],
   "source": [
    "# Calculate the number of words in each line\n",
    "df_selected.loc[:, 'word_count'] = df_selected['text'].apply(lambda x: len(x.split()))\n",
    "\n",
    "# Calculate the average\n",
    "average_word_count = df_selected['word_count'].mean()\n",
    "\n",
    "print(f\"The average number of words in each line is {average_word_count}\\n\")"
   ]
  },
  {
   "cell_type": "markdown",
   "id": "104771ad",
   "metadata": {},
   "source": [
    "---\n",
    "<a id='b-processing'></a>\n",
    "### **B. Processing**\n",
    "Processing and cleaning to keep text relevant and eliminate noise and unnecessary information.\n",
    "\n",
    "<a id='1-cleaned-text'></a>\n",
    "**1- Cleaned text**"
   ]
  },
  {
   "cell_type": "code",
   "execution_count": 158,
   "id": "87dd2b5b",
   "metadata": {},
   "outputs": [
    {
     "data": {
      "text/html": [
       "<div>\n",
       "<style scoped>\n",
       "    .dataframe tbody tr th:only-of-type {\n",
       "        vertical-align: middle;\n",
       "    }\n",
       "\n",
       "    .dataframe tbody tr th {\n",
       "        vertical-align: top;\n",
       "    }\n",
       "\n",
       "    .dataframe thead th {\n",
       "        text-align: right;\n",
       "    }\n",
       "</style>\n",
       "<table border=\"1\" class=\"dataframe\">\n",
       "  <thead>\n",
       "    <tr style=\"text-align: right;\">\n",
       "      <th></th>\n",
       "      <th>target</th>\n",
       "      <th>text</th>\n",
       "      <th>word_count</th>\n",
       "    </tr>\n",
       "  </thead>\n",
       "  <tbody>\n",
       "    <tr>\n",
       "      <th>0</th>\n",
       "      <td>0</td>\n",
       "      <td>is upset that he can't update his Facebook by ...</td>\n",
       "      <td>21</td>\n",
       "    </tr>\n",
       "    <tr>\n",
       "      <th>1</th>\n",
       "      <td>0</td>\n",
       "      <td>@Kenichan I dived many times for the ball. Man...</td>\n",
       "      <td>18</td>\n",
       "    </tr>\n",
       "    <tr>\n",
       "      <th>2</th>\n",
       "      <td>0</td>\n",
       "      <td>my whole body feels itchy and like its on fire</td>\n",
       "      <td>10</td>\n",
       "    </tr>\n",
       "    <tr>\n",
       "      <th>3</th>\n",
       "      <td>0</td>\n",
       "      <td>@nationwideclass no, it's not behaving at all....</td>\n",
       "      <td>21</td>\n",
       "    </tr>\n",
       "    <tr>\n",
       "      <th>4</th>\n",
       "      <td>0</td>\n",
       "      <td>@Kwesidei not the whole crew</td>\n",
       "      <td>5</td>\n",
       "    </tr>\n",
       "    <tr>\n",
       "      <th>...</th>\n",
       "      <td>...</td>\n",
       "      <td>...</td>\n",
       "      <td>...</td>\n",
       "    </tr>\n",
       "    <tr>\n",
       "      <th>1599994</th>\n",
       "      <td>4</td>\n",
       "      <td>Just woke up. Having no school is the best fee...</td>\n",
       "      <td>11</td>\n",
       "    </tr>\n",
       "    <tr>\n",
       "      <th>1599995</th>\n",
       "      <td>4</td>\n",
       "      <td>TheWDB.com - Very cool to hear old Walt interv...</td>\n",
       "      <td>11</td>\n",
       "    </tr>\n",
       "    <tr>\n",
       "      <th>1599996</th>\n",
       "      <td>4</td>\n",
       "      <td>Are you ready for your MoJo Makeover? Ask me f...</td>\n",
       "      <td>11</td>\n",
       "    </tr>\n",
       "    <tr>\n",
       "      <th>1599997</th>\n",
       "      <td>4</td>\n",
       "      <td>Happy 38th Birthday to my boo of alll time!!! ...</td>\n",
       "      <td>12</td>\n",
       "    </tr>\n",
       "    <tr>\n",
       "      <th>1599998</th>\n",
       "      <td>4</td>\n",
       "      <td>happy #charitytuesday @theNSPCC @SparksCharity...</td>\n",
       "      <td>5</td>\n",
       "    </tr>\n",
       "  </tbody>\n",
       "</table>\n",
       "<p>1599999 rows × 3 columns</p>\n",
       "</div>"
      ],
      "text/plain": [
       "         target                                               text  word_count\n",
       "0             0  is upset that he can't update his Facebook by ...          21\n",
       "1             0  @Kenichan I dived many times for the ball. Man...          18\n",
       "2             0    my whole body feels itchy and like its on fire           10\n",
       "3             0  @nationwideclass no, it's not behaving at all....          21\n",
       "4             0                      @Kwesidei not the whole crew            5\n",
       "...         ...                                                ...         ...\n",
       "1599994       4  Just woke up. Having no school is the best fee...          11\n",
       "1599995       4  TheWDB.com - Very cool to hear old Walt interv...          11\n",
       "1599996       4  Are you ready for your MoJo Makeover? Ask me f...          11\n",
       "1599997       4  Happy 38th Birthday to my boo of alll time!!! ...          12\n",
       "1599998       4  happy #charitytuesday @theNSPCC @SparksCharity...           5\n",
       "\n",
       "[1599999 rows x 3 columns]"
      ]
     },
     "metadata": {},
     "output_type": "display_data"
    }
   ],
   "source": [
    "display(df_selected)"
   ]
  },
  {
   "cell_type": "code",
   "execution_count": 159,
   "id": "d81ac3ab",
   "metadata": {},
   "outputs": [],
   "source": [
    "def clean_text(df, column):\n",
    "    # Use nltk stopwords\n",
    "    stop_words = set(stopwords.words('english'))\n",
    "\n",
    "    # Initialize the lemmatizer\n",
    "    lemmatizer = WordNetLemmatizer()\n",
    "\n",
    "    # Convert text to lowercase\n",
    "    df.loc[:, column] = df[column].str.lower()\n",
    "\n",
    "    # Remove '@' followed by names\n",
    "    df.loc[:, column] = df[column].str.replace(r'@\\w+', '', regex=True)\n",
    "\n",
    "    # Remove all punctuation\n",
    "    df.loc[:, column] = df[column].str.translate(str.maketrans('', '', string.punctuation))\n",
    "\n",
    "    # Remove non-ASCII characters\n",
    "    df.loc[:, column] = df[column].apply(lambda x: x.encode('ascii', 'ignore').decode())\n",
    "\n",
    "    # Remove HTTP and HTTPS links\n",
    "    df.loc[:, column] = df[column].str.replace('http[s]?://(?:[a-zA-Z]|[0-9]|[$-_@.&+]|[!*\\\\(\\\\),]|(?:%[0-9a-fA-F][0-9a-fA-F]))+', '', regex=True)\n",
    "\n",
    "    # Remove stopwords and lemmatize the text\n",
    "    df.loc[:, column] = df[column].apply(lambda x: ' '.join(lemmatizer.lemmatize(word) for word in x.split() if word not in stop_words))\n",
    "\n",
    "    return df\n",
    "\n",
    "df_selected = clean_text(df_selected, 'text')"
   ]
  },
  {
   "cell_type": "code",
   "execution_count": 160,
   "id": "1d8d8838",
   "metadata": {},
   "outputs": [
    {
     "data": {
      "text/html": [
       "<div>\n",
       "<style scoped>\n",
       "    .dataframe tbody tr th:only-of-type {\n",
       "        vertical-align: middle;\n",
       "    }\n",
       "\n",
       "    .dataframe tbody tr th {\n",
       "        vertical-align: top;\n",
       "    }\n",
       "\n",
       "    .dataframe thead th {\n",
       "        text-align: right;\n",
       "    }\n",
       "</style>\n",
       "<table border=\"1\" class=\"dataframe\">\n",
       "  <thead>\n",
       "    <tr style=\"text-align: right;\">\n",
       "      <th></th>\n",
       "      <th>target</th>\n",
       "      <th>text</th>\n",
       "      <th>word_count</th>\n",
       "    </tr>\n",
       "  </thead>\n",
       "  <tbody>\n",
       "    <tr>\n",
       "      <th>0</th>\n",
       "      <td>0</td>\n",
       "      <td>upset cant update facebook texting might cry r...</td>\n",
       "      <td>21</td>\n",
       "    </tr>\n",
       "    <tr>\n",
       "      <th>1</th>\n",
       "      <td>0</td>\n",
       "      <td>dived many time ball managed save 50 rest go b...</td>\n",
       "      <td>18</td>\n",
       "    </tr>\n",
       "    <tr>\n",
       "      <th>2</th>\n",
       "      <td>0</td>\n",
       "      <td>whole body feel itchy like fire</td>\n",
       "      <td>10</td>\n",
       "    </tr>\n",
       "    <tr>\n",
       "      <th>3</th>\n",
       "      <td>0</td>\n",
       "      <td>behaving im mad cant see</td>\n",
       "      <td>21</td>\n",
       "    </tr>\n",
       "    <tr>\n",
       "      <th>4</th>\n",
       "      <td>0</td>\n",
       "      <td>whole crew</td>\n",
       "      <td>5</td>\n",
       "    </tr>\n",
       "    <tr>\n",
       "      <th>...</th>\n",
       "      <td>...</td>\n",
       "      <td>...</td>\n",
       "      <td>...</td>\n",
       "    </tr>\n",
       "    <tr>\n",
       "      <th>1599994</th>\n",
       "      <td>4</td>\n",
       "      <td>woke school best feeling ever</td>\n",
       "      <td>11</td>\n",
       "    </tr>\n",
       "    <tr>\n",
       "      <th>1599995</th>\n",
       "      <td>4</td>\n",
       "      <td>thewdbcom cool hear old walt interview httpbli...</td>\n",
       "      <td>11</td>\n",
       "    </tr>\n",
       "    <tr>\n",
       "      <th>1599996</th>\n",
       "      <td>4</td>\n",
       "      <td>ready mojo makeover ask detail</td>\n",
       "      <td>11</td>\n",
       "    </tr>\n",
       "    <tr>\n",
       "      <th>1599997</th>\n",
       "      <td>4</td>\n",
       "      <td>happy 38th birthday boo alll time tupac amaru ...</td>\n",
       "      <td>12</td>\n",
       "    </tr>\n",
       "    <tr>\n",
       "      <th>1599998</th>\n",
       "      <td>4</td>\n",
       "      <td>happy charitytuesday</td>\n",
       "      <td>5</td>\n",
       "    </tr>\n",
       "  </tbody>\n",
       "</table>\n",
       "<p>1599999 rows × 3 columns</p>\n",
       "</div>"
      ],
      "text/plain": [
       "         target                                               text  word_count\n",
       "0             0  upset cant update facebook texting might cry r...          21\n",
       "1             0  dived many time ball managed save 50 rest go b...          18\n",
       "2             0                    whole body feel itchy like fire          10\n",
       "3             0                           behaving im mad cant see          21\n",
       "4             0                                         whole crew           5\n",
       "...         ...                                                ...         ...\n",
       "1599994       4                      woke school best feeling ever          11\n",
       "1599995       4  thewdbcom cool hear old walt interview httpbli...          11\n",
       "1599996       4                     ready mojo makeover ask detail          11\n",
       "1599997       4  happy 38th birthday boo alll time tupac amaru ...          12\n",
       "1599998       4                               happy charitytuesday           5\n",
       "\n",
       "[1599999 rows x 3 columns]"
      ]
     },
     "metadata": {},
     "output_type": "display_data"
    }
   ],
   "source": [
    "display(df_selected)"
   ]
  },
  {
   "cell_type": "markdown",
   "id": "1a75102e",
   "metadata": {},
   "source": [
    "We clean the text by removing unnecessary words (stopwords), we put the text in lower case, we delete punctuation.\n",
    "\n",
    "We remove the @ with the names because it doesn't provide information on the negative or positive sentiment of the tweet."
   ]
  },
  {
   "cell_type": "code",
   "execution_count": 161,
   "id": "a7fe8e9f",
   "metadata": {},
   "outputs": [
    {
     "name": "stderr",
     "output_type": "stream",
     "text": [
      "C:\\Users\\julia\\AppData\\Local\\Temp\\ipykernel_10512\\3741183294.py:1: SettingWithCopyWarning: \n",
      "A value is trying to be set on a copy of a slice from a DataFrame.\n",
      "Try using .loc[row_indexer,col_indexer] = value instead\n",
      "\n",
      "See the caveats in the documentation: https://pandas.pydata.org/pandas-docs/stable/user_guide/indexing.html#returning-a-view-versus-a-copy\n",
      "  df_selected['target'] = df_selected['target'].replace(4, 1)\n"
     ]
    }
   ],
   "source": [
    "df_selected['target'] = df_selected['target'].replace(4, 1)"
   ]
  },
  {
   "cell_type": "markdown",
   "id": "d1e8e605",
   "metadata": {},
   "source": [
    "Replace value 4 to 1, now 0 = negatif and 1 = positif."
   ]
  },
  {
   "cell_type": "code",
   "execution_count": 162,
   "id": "6774de3d",
   "metadata": {},
   "outputs": [
    {
     "name": "stdout",
     "output_type": "stream",
     "text": [
      "The average number of words after cleaning in each line is 7.322553326595829\n"
     ]
    }
   ],
   "source": [
    "# Calculate the number of words in each line\n",
    "df_selected.loc[:, 'word_count'] = df_selected['text'].apply(lambda x: len(x.split()))\n",
    "\n",
    "# Calculate the average\n",
    "average_word_count = df_selected['word_count'].mean()\n",
    "\n",
    "print(f\"The average number of words after cleaning in each line is {average_word_count}\")"
   ]
  },
  {
   "cell_type": "markdown",
   "id": "e66dea1f",
   "metadata": {},
   "source": [
    "We go from 13 words per line on average to 7, which allows us to divide the size of our text by almost 2 while keeping only the words carrying sentiment information."
   ]
  },
  {
   "cell_type": "code",
   "execution_count": 163,
   "id": "b1820e37",
   "metadata": {},
   "outputs": [],
   "source": [
    "df_selected = df_selected.drop('word_count', axis=1)"
   ]
  },
  {
   "cell_type": "code",
   "execution_count": 164,
   "id": "e429b089",
   "metadata": {},
   "outputs": [],
   "source": [
    "# Save in csv the text cleaned\n",
    "df_selected.to_csv('../data/df_clean.csv', index=False)"
   ]
  },
  {
   "cell_type": "markdown",
   "id": "95a04f13",
   "metadata": {},
   "source": [
    "**(Stemmantizer Testing)**"
   ]
  },
  {
   "cell_type": "code",
   "execution_count": 165,
   "id": "0f4f56a6",
   "metadata": {},
   "outputs": [],
   "source": [
    "df_stemm = df[['target', 'text']]"
   ]
  },
  {
   "cell_type": "code",
   "execution_count": 166,
   "id": "c48146de",
   "metadata": {},
   "outputs": [],
   "source": [
    "def clean_text_stem(df, column):\n",
    "    # Use nltk stopwords\n",
    "    stop_words = set(stopwords.words('english'))\n",
    "\n",
    "    # Initialize the stemmer\n",
    "    stemmer = PorterStemmer()\n",
    "\n",
    "    # Convert text to lowercase\n",
    "    df.loc[:, column] = df[column].str.lower()\n",
    "\n",
    "    # Remove '@' followed by names\n",
    "    df.loc[:, column] = df[column].str.replace(r'@\\w+', '', regex=True)\n",
    "\n",
    "    # Remove all punctuation\n",
    "    df.loc[:, column] = df[column].str.translate(str.maketrans('', '', string.punctuation))\n",
    "\n",
    "    # Remove non-ASCII characters\n",
    "    df.loc[:, column] = df[column].apply(lambda x: x.encode('ascii', 'ignore').decode())\n",
    "\n",
    "    # Remove HTTP and HTTPS links\n",
    "    df.loc[:, column] = df[column].str.replace('http[s]?://(?:[a-zA-Z]|[0-9]|[$-_@.&+]|[!*\\\\(\\\\),]|(?:%[0-9a-fA-F][0-9a-fA-F]))+', '', regex=True)\n",
    "\n",
    "    # Remove stopwords and stem the text\n",
    "    df.loc[:, column] = df[column].apply(lambda x: ' '.join(stemmer.stem(word) for word in x.split() if word not in stop_words))\n",
    "\n",
    "    return df\n",
    "\n",
    "df_stemm = clean_text_stem(df_stemm, 'text')"
   ]
  },
  {
   "cell_type": "code",
   "execution_count": 167,
   "id": "0d133ec9",
   "metadata": {},
   "outputs": [
    {
     "data": {
      "text/html": [
       "<div>\n",
       "<style scoped>\n",
       "    .dataframe tbody tr th:only-of-type {\n",
       "        vertical-align: middle;\n",
       "    }\n",
       "\n",
       "    .dataframe tbody tr th {\n",
       "        vertical-align: top;\n",
       "    }\n",
       "\n",
       "    .dataframe thead th {\n",
       "        text-align: right;\n",
       "    }\n",
       "</style>\n",
       "<table border=\"1\" class=\"dataframe\">\n",
       "  <thead>\n",
       "    <tr style=\"text-align: right;\">\n",
       "      <th></th>\n",
       "      <th>target</th>\n",
       "      <th>text</th>\n",
       "    </tr>\n",
       "  </thead>\n",
       "  <tbody>\n",
       "    <tr>\n",
       "      <th>0</th>\n",
       "      <td>0</td>\n",
       "      <td>upset cant updat facebook text might cri resul...</td>\n",
       "    </tr>\n",
       "    <tr>\n",
       "      <th>1</th>\n",
       "      <td>0</td>\n",
       "      <td>dive mani time ball manag save 50 rest go bound</td>\n",
       "    </tr>\n",
       "    <tr>\n",
       "      <th>2</th>\n",
       "      <td>0</td>\n",
       "      <td>whole bodi feel itchi like fire</td>\n",
       "    </tr>\n",
       "    <tr>\n",
       "      <th>3</th>\n",
       "      <td>0</td>\n",
       "      <td>behav im mad cant see</td>\n",
       "    </tr>\n",
       "    <tr>\n",
       "      <th>4</th>\n",
       "      <td>0</td>\n",
       "      <td>whole crew</td>\n",
       "    </tr>\n",
       "    <tr>\n",
       "      <th>...</th>\n",
       "      <td>...</td>\n",
       "      <td>...</td>\n",
       "    </tr>\n",
       "    <tr>\n",
       "      <th>1599994</th>\n",
       "      <td>4</td>\n",
       "      <td>woke school best feel ever</td>\n",
       "    </tr>\n",
       "    <tr>\n",
       "      <th>1599995</th>\n",
       "      <td>4</td>\n",
       "      <td>thewdbcom cool hear old walt interview httpbli...</td>\n",
       "    </tr>\n",
       "    <tr>\n",
       "      <th>1599996</th>\n",
       "      <td>4</td>\n",
       "      <td>readi mojo makeov ask detail</td>\n",
       "    </tr>\n",
       "    <tr>\n",
       "      <th>1599997</th>\n",
       "      <td>4</td>\n",
       "      <td>happi 38th birthday boo alll time tupac amaru ...</td>\n",
       "    </tr>\n",
       "    <tr>\n",
       "      <th>1599998</th>\n",
       "      <td>4</td>\n",
       "      <td>happi charitytuesday</td>\n",
       "    </tr>\n",
       "  </tbody>\n",
       "</table>\n",
       "<p>1599999 rows × 2 columns</p>\n",
       "</div>"
      ],
      "text/plain": [
       "         target                                               text\n",
       "0             0  upset cant updat facebook text might cri resul...\n",
       "1             0    dive mani time ball manag save 50 rest go bound\n",
       "2             0                    whole bodi feel itchi like fire\n",
       "3             0                              behav im mad cant see\n",
       "4             0                                         whole crew\n",
       "...         ...                                                ...\n",
       "1599994       4                         woke school best feel ever\n",
       "1599995       4  thewdbcom cool hear old walt interview httpbli...\n",
       "1599996       4                       readi mojo makeov ask detail\n",
       "1599997       4  happi 38th birthday boo alll time tupac amaru ...\n",
       "1599998       4                               happi charitytuesday\n",
       "\n",
       "[1599999 rows x 2 columns]"
      ]
     },
     "metadata": {},
     "output_type": "display_data"
    }
   ],
   "source": [
    "display(df_stemm)"
   ]
  },
  {
   "cell_type": "markdown",
   "id": "1595d36c",
   "metadata": {},
   "source": [
    "<a id='2-after-clean'></a>\n",
    "**2- Analysis after cleaning**    "
   ]
  },
  {
   "cell_type": "code",
   "execution_count": 168,
   "id": "124bef0a",
   "metadata": {},
   "outputs": [
    {
     "data": {
      "image/png": "[encoded data removed]",
      "text/plain": [
       "<Figure size 1000x500 with 1 Axes>"
      ]
     },
     "metadata": {},
     "output_type": "display_data"
    }
   ],
   "source": [
    "# Create a list of all words in the 'text' column\n",
    "words = [word for line in df_selected['text'] for word in line.split()]\n",
    "\n",
    "# Use Counter to get the most frequent words\n",
    "word_counts = Counter(words)\n",
    "\n",
    "# Get the 20 most frequent words and their counts\n",
    "common_words = word_counts.most_common(20)\n",
    "\n",
    "# Separate words and counts into two lists\n",
    "words, counts = zip(*common_words)\n",
    "\n",
    "# Create histogram\n",
    "plt.figure(figsize=(10, 5))\n",
    "plt.bar(words, counts)\n",
    "plt.xlabel('Words')\n",
    "plt.ylabel('Frequency')\n",
    "plt.title('The 20 most frequent words')\n",
    "plt.xticks(rotation=45)\n",
    "plt.show()"
   ]
  },
  {
   "cell_type": "markdown",
   "id": "49800902",
   "metadata": {},
   "source": [
    "We see here by analysis that the words that come out are words that bring a positive feeling, like 'good', 'love' and negative ones like 'cant', 'dont'."
   ]
  },
  {
   "cell_type": "markdown",
   "id": "380f0d12",
   "metadata": {},
   "source": [
    "---\n",
    "---"
   ]
  },
  {
   "cell_type": "markdown",
   "id": "87eff2d6",
   "metadata": {},
   "source": [
    "## **Results**"
   ]
  },
  {
   "cell_type": "markdown",
   "id": "690986c7",
   "metadata": {},
   "source": []
  }
 ],
 "metadata": {
  "kernelspec": {
   "display_name": ".env",
   "language": "python",
   "name": "python3"
  },
  "language_info": {
   "codemirror_mode": {
    "name": "ipython",
    "version": 3
   },
   "file_extension": ".py",
   "mimetype": "text/x-python",
   "name": "python",
   "nbconvert_exporter": "python",
   "pygments_lexer": "ipython3",
   "version": "3.11.7"
  }
 },
 "nbformat": 4,
 "nbformat_minor": 5
}
