{
 "cells": [
  {
   "cell_type": "markdown",
   "metadata": {},
   "source": [
    "# **3-Perform sentiment analysis using Deep Learning**\n",
    "Optimisation of the final model here Glove with the LSTM.\n",
    "\n",
    "We choose this model because as we have seen, it's the one which gives us better performance with a correct training time."
   ]
  },
  {
   "cell_type": "code",
   "execution_count": 1,
   "metadata": {},
   "outputs": [],
   "source": [
    "glove_embed = '../glove_emb/train_tweet_emb/glove.twitter.27B.100d.txt'\n",
    "df_clean = '../data/df_clean.csv'"
   ]
  },
  {
   "cell_type": "code",
   "execution_count": 2,
   "metadata": {},
   "outputs": [
    {
     "name": "stdout",
     "output_type": "stream",
     "text": [
      "WARNING:tensorflow:From c:\\Users\\julia\\Desktop\\Projet #7\\.env\\Lib\\site-packages\\keras\\src\\losses.py:2976: The name tf.losses.sparse_softmax_cross_entropy is deprecated. Please use tf.compat.v1.losses.sparse_softmax_cross_entropy instead.\n",
      "\n"
     ]
    }
   ],
   "source": [
    "import numpy as np\n",
    "import pandas as pd\n",
    "import matplotlib.pyplot as plt\n",
    "import mlflow\n",
    "import time\n",
    "import pickle\n",
    "\n",
    "from sklearn.model_selection import train_test_split\n",
    "from keras.optimizers import Adam\n",
    "from keras.models import Sequential\n",
    "from keras.layers import Dense, Embedding, LSTM\n",
    "from keras.losses import SparseCategoricalCrossentropy\n",
    "from keras.preprocessing.text import Tokenizer\n",
    "from keras.preprocessing.sequence import pad_sequences\n",
    "from keras.metrics import SparseCategoricalAccuracy\n",
    "from plot_keras_history import show_history, plot_history\n",
    "from tensorflow.keras.callbacks import ModelCheckpoint, EarlyStopping\n",
    "from tensorflow.keras.models import load_model"
   ]
  },
  {
   "cell_type": "code",
   "execution_count": 3,
   "metadata": {},
   "outputs": [
    {
     "name": "stdout",
     "output_type": "stream",
     "text": [
      "numpy - 1.26.3\n",
      "pandas - 2.2.0\n",
      "mlflow - 2.10.0\n"
     ]
    }
   ],
   "source": [
    "# Version of the libraries used\n",
    "print('\\n'.join(f'{m.__name__} - {m.__version__}'\n",
    "                for m in globals().values()\n",
    "                if getattr(m, '__version__', None)))"
   ]
  },
  {
   "cell_type": "markdown",
   "metadata": {},
   "source": [
    "---"
   ]
  },
  {
   "cell_type": "code",
   "execution_count": 4,
   "metadata": {},
   "outputs": [],
   "source": [
    "# Read the cleaned and processing CSV file\n",
    "df = pd.read_csv(df_clean, encoding='latin1')"
   ]
  },
  {
   "cell_type": "code",
   "execution_count": 5,
   "metadata": {},
   "outputs": [],
   "source": [
    "# Prepare training data\n",
    "sentences = df['text'].astype(str)\n",
    "labels = df['target']\n",
    "\n",
    "# Initialize the tokenizer\n",
    "tokenizer = Tokenizer()\n",
    "tokenizer.fit_on_texts(sentences)\n",
    "\n",
    "# Save the tokenizer\n",
    "with open('../glove_emb/tokenizer.pickle', 'wb') as handle:\n",
    "    pickle.dump(tokenizer, handle, protocol=pickle.HIGHEST_PROTOCOL)\n",
    "\n",
    "# Transform sentences into sequences\n",
    "sequences = tokenizer.texts_to_sequences(sentences)\n",
    "\n",
    "# Padding sequences so that they are all the same length\n",
    "data = pad_sequences(sequences)\n",
    "\n",
    "# Split the data into training and testing sets\n",
    "X_train, X_test, y_train, y_test = train_test_split(data, labels, test_size=0.2, random_state=5)\n",
    "\n",
    "# Further split the training data into training and validation sets\n",
    "X_train, X_val, y_train, y_val = train_test_split(X_train, y_train, test_size=0.25, random_state=5)"
   ]
  },
  {
   "cell_type": "code",
   "execution_count": 6,
   "metadata": {},
   "outputs": [],
   "source": [
    "# Load GloVe embeddings\n",
    "embeddings_index = {}\n",
    "with open(glove_embed, encoding='utf-8') as f:\n",
    "    for line in f:\n",
    "        values = line.split()\n",
    "        word = values[0]\n",
    "        coefs = np.asarray(values[1:], dtype='float32')\n",
    "        embeddings_index[word] = coefs"
   ]
  },
  {
   "cell_type": "code",
   "execution_count": 7,
   "metadata": {},
   "outputs": [],
   "source": [
    "# Prepare the embeddings matrix\n",
    "embedding_matrix = np.zeros((len(tokenizer.word_index) + 1, 100))\n",
    "for word, i in tokenizer.word_index.items():\n",
    "    embedding_vector = embeddings_index.get(word)\n",
    "    if embedding_vector is not None:\n",
    "        embedding_matrix[i] = embedding_vector"
   ]
  },
  {
   "cell_type": "code",
   "execution_count": 8,
   "metadata": {},
   "outputs": [
    {
     "name": "stdout",
     "output_type": "stream",
     "text": [
      "WARNING:tensorflow:From c:\\Users\\julia\\Desktop\\Projet #7\\.env\\Lib\\site-packages\\keras\\src\\backend.py:873: The name tf.get_default_graph is deprecated. Please use tf.compat.v1.get_default_graph instead.\n",
      "\n"
     ]
    }
   ],
   "source": [
    "# Build the model\n",
    "optimized_glove = Sequential()\n",
    "optimized_glove.add(Embedding(len(tokenizer.word_index) + 1, 100, weights=[embedding_matrix], trainable=False))\n",
    "optimized_glove.add(LSTM(128))\n",
    "optimized_glove.add(Dense(2, activation='softmax'))\n",
    "\n",
    "# Compile the model\n",
    "optimizer = Adam(learning_rate=5e-5)\n",
    "loss = SparseCategoricalCrossentropy(from_logits=True)\n",
    "metric = SparseCategoricalAccuracy('accuracy')\n",
    "\n",
    "optimized_glove.compile(optimizer=optimizer, loss=loss, metrics=[metric])"
   ]
  },
  {
   "cell_type": "code",
   "execution_count": 9,
   "metadata": {},
   "outputs": [
    {
     "name": "stdout",
     "output_type": "stream",
     "text": [
      "Epoch 1/40\n",
      "WARNING:tensorflow:From c:\\Users\\julia\\Desktop\\Projet #7\\.env\\Lib\\site-packages\\keras\\src\\utils\\tf_utils.py:492: The name tf.ragged.RaggedTensorValue is deprecated. Please use tf.compat.v1.ragged.RaggedTensorValue instead.\n",
      "\n"
     ]
    },
    {
     "name": "stderr",
     "output_type": "stream",
     "text": [
      "c:\\Users\\julia\\Desktop\\Projet #7\\.env\\Lib\\site-packages\\keras\\src\\backend.py:5727: UserWarning: \"`sparse_categorical_crossentropy` received `from_logits=True`, but the `output` argument was produced by a Softmax activation and thus does not represent logits. Was this intended?\n",
      "  output, from_logits = _get_logits(\n"
     ]
    },
    {
     "name": "stdout",
     "output_type": "stream",
     "text": [
      "15000/15000 [==============================] - ETA: 0s - loss: 0.5096 - accuracy: 0.7486\n",
      "Epoch 1: val_accuracy improved from -inf to 0.76283, saving model to ../glove_emb\\best_glove_embed.h5\n"
     ]
    },
    {
     "name": "stderr",
     "output_type": "stream",
     "text": [
      "c:\\Users\\julia\\Desktop\\Projet #7\\.env\\Lib\\site-packages\\keras\\src\\engine\\training.py:3103: UserWarning: You are saving your model as an HDF5 file via `model.save()`. This file format is considered legacy. We recommend using instead the native Keras format, e.g. `model.save('my_model.keras')`.\n",
      "  saving_api.save_model(\n"
     ]
    },
    {
     "name": "stdout",
     "output_type": "stream",
     "text": [
      "15000/15000 [==============================] - 261s 17ms/step - loss: 0.5096 - accuracy: 0.7486 - val_loss: 0.4876 - val_accuracy: 0.7628\n",
      "Epoch 2/40\n",
      "14997/15000 [============================>.] - ETA: 0s - loss: 0.4782 - accuracy: 0.7691\n",
      "Epoch 2: val_accuracy improved from 0.76283 to 0.77268, saving model to ../glove_emb\\best_glove_embed.h5\n",
      "15000/15000 [==============================] - 252s 17ms/step - loss: 0.4782 - accuracy: 0.7691 - val_loss: 0.4733 - val_accuracy: 0.7727\n",
      "Epoch 3/40\n",
      "14997/15000 [============================>.] - ETA: 0s - loss: 0.4674 - accuracy: 0.7760\n",
      "Epoch 3: val_accuracy improved from 0.77268 to 0.77775, saving model to ../glove_emb\\best_glove_embed.h5\n",
      "15000/15000 [==============================] - 250s 17ms/step - loss: 0.4674 - accuracy: 0.7760 - val_loss: 0.4651 - val_accuracy: 0.7777\n",
      "Epoch 4/40\n",
      "14998/15000 [============================>.] - ETA: 0s - loss: 0.4609 - accuracy: 0.7801\n",
      "Epoch 4: val_accuracy improved from 0.77775 to 0.78087, saving model to ../glove_emb\\best_glove_embed.h5\n",
      "15000/15000 [==============================] - 265s 18ms/step - loss: 0.4609 - accuracy: 0.7801 - val_loss: 0.4604 - val_accuracy: 0.7809\n",
      "Epoch 5/40\n",
      "14997/15000 [============================>.] - ETA: 0s - loss: 0.4560 - accuracy: 0.7832\n",
      "Epoch 5: val_accuracy improved from 0.78087 to 0.78242, saving model to ../glove_emb\\best_glove_embed.h5\n",
      "15000/15000 [==============================] - 256s 17ms/step - loss: 0.4560 - accuracy: 0.7832 - val_loss: 0.4573 - val_accuracy: 0.7824\n",
      "Epoch 6/40\n",
      "14997/15000 [============================>.] - ETA: 0s - loss: 0.4519 - accuracy: 0.7857\n",
      "Epoch 6: val_accuracy improved from 0.78242 to 0.78392, saving model to ../glove_emb\\best_glove_embed.h5\n",
      "15000/15000 [==============================] - 248s 17ms/step - loss: 0.4519 - accuracy: 0.7857 - val_loss: 0.4545 - val_accuracy: 0.7839\n",
      "Epoch 7/40\n",
      "15000/15000 [==============================] - ETA: 0s - loss: 0.4486 - accuracy: 0.7878\n",
      "Epoch 7: val_accuracy improved from 0.78392 to 0.78630, saving model to ../glove_emb\\best_glove_embed.h5\n",
      "15000/15000 [==============================] - 259s 17ms/step - loss: 0.4486 - accuracy: 0.7878 - val_loss: 0.4507 - val_accuracy: 0.7863\n",
      "Epoch 8/40\n",
      "14997/15000 [============================>.] - ETA: 0s - loss: 0.4455 - accuracy: 0.7893\n",
      "Epoch 8: val_accuracy improved from 0.78630 to 0.78681, saving model to ../glove_emb\\best_glove_embed.h5\n",
      "15000/15000 [==============================] - 251s 17ms/step - loss: 0.4455 - accuracy: 0.7893 - val_loss: 0.4501 - val_accuracy: 0.7868\n",
      "Epoch 9/40\n",
      "14998/15000 [============================>.] - ETA: 0s - loss: 0.4428 - accuracy: 0.7913\n",
      "Epoch 9: val_accuracy improved from 0.78681 to 0.78839, saving model to ../glove_emb\\best_glove_embed.h5\n",
      "15000/15000 [==============================] - 247s 16ms/step - loss: 0.4428 - accuracy: 0.7913 - val_loss: 0.4476 - val_accuracy: 0.7884\n",
      "Epoch 10/40\n",
      "14998/15000 [============================>.] - ETA: 0s - loss: 0.4404 - accuracy: 0.7927\n",
      "Epoch 10: val_accuracy improved from 0.78839 to 0.78937, saving model to ../glove_emb\\best_glove_embed.h5\n",
      "15000/15000 [==============================] - 253s 17ms/step - loss: 0.4404 - accuracy: 0.7927 - val_loss: 0.4464 - val_accuracy: 0.7894\n",
      "Epoch 11/40\n",
      "14998/15000 [============================>.] - ETA: 0s - loss: 0.4382 - accuracy: 0.7938\n",
      "Epoch 11: val_accuracy improved from 0.78937 to 0.78989, saving model to ../glove_emb\\best_glove_embed.h5\n",
      "15000/15000 [==============================] - 265s 18ms/step - loss: 0.4381 - accuracy: 0.7938 - val_loss: 0.4445 - val_accuracy: 0.7899\n",
      "Epoch 12/40\n",
      "14998/15000 [============================>.] - ETA: 0s - loss: 0.4359 - accuracy: 0.7950\n",
      "Epoch 12: val_accuracy did not improve from 0.78989\n",
      "15000/15000 [==============================] - 263s 18ms/step - loss: 0.4359 - accuracy: 0.7950 - val_loss: 0.4469 - val_accuracy: 0.7889\n",
      "Epoch 13/40\n",
      "15000/15000 [==============================] - ETA: 0s - loss: 0.4341 - accuracy: 0.7963\n",
      "Epoch 13: val_accuracy improved from 0.78989 to 0.79177, saving model to ../glove_emb\\best_glove_embed.h5\n",
      "15000/15000 [==============================] - 262s 17ms/step - loss: 0.4341 - accuracy: 0.7963 - val_loss: 0.4424 - val_accuracy: 0.7918\n",
      "Epoch 14/40\n",
      "14999/15000 [============================>.] - ETA: 0s - loss: 0.4322 - accuracy: 0.7976\n",
      "Epoch 14: val_accuracy improved from 0.79177 to 0.79199, saving model to ../glove_emb\\best_glove_embed.h5\n",
      "15000/15000 [==============================] - 254s 17ms/step - loss: 0.4322 - accuracy: 0.7976 - val_loss: 0.4413 - val_accuracy: 0.7920\n",
      "Epoch 15/40\n",
      "14997/15000 [============================>.] - ETA: 0s - loss: 0.4305 - accuracy: 0.7984\n",
      "Epoch 15: val_accuracy improved from 0.79199 to 0.79230, saving model to ../glove_emb\\best_glove_embed.h5\n",
      "15000/15000 [==============================] - 254s 17ms/step - loss: 0.4305 - accuracy: 0.7984 - val_loss: 0.4404 - val_accuracy: 0.7923\n",
      "Epoch 16/40\n",
      "15000/15000 [==============================] - ETA: 0s - loss: 0.4288 - accuracy: 0.7994\n",
      "Epoch 16: val_accuracy did not improve from 0.79230\n",
      "15000/15000 [==============================] - 252s 17ms/step - loss: 0.4288 - accuracy: 0.7994 - val_loss: 0.4410 - val_accuracy: 0.7918\n",
      "Epoch 17/40\n",
      "15000/15000 [==============================] - ETA: 0s - loss: 0.4272 - accuracy: 0.8004\n",
      "Epoch 17: val_accuracy improved from 0.79230 to 0.79314, saving model to ../glove_emb\\best_glove_embed.h5\n",
      "15000/15000 [==============================] - 254s 17ms/step - loss: 0.4272 - accuracy: 0.8004 - val_loss: 0.4399 - val_accuracy: 0.7931\n",
      "Epoch 18/40\n",
      "14999/15000 [============================>.] - ETA: 0s - loss: 0.4257 - accuracy: 0.8011\n",
      "Epoch 18: val_accuracy improved from 0.79314 to 0.79341, saving model to ../glove_emb\\best_glove_embed.h5\n",
      "15000/15000 [==============================] - 268s 18ms/step - loss: 0.4257 - accuracy: 0.8011 - val_loss: 0.4386 - val_accuracy: 0.7934\n",
      "Epoch 19/40\n",
      "14998/15000 [============================>.] - ETA: 0s - loss: 0.4244 - accuracy: 0.8019\n",
      "Epoch 19: val_accuracy improved from 0.79341 to 0.79386, saving model to ../glove_emb\\best_glove_embed.h5\n",
      "15000/15000 [==============================] - 272s 18ms/step - loss: 0.4244 - accuracy: 0.8020 - val_loss: 0.4382 - val_accuracy: 0.7939\n",
      "Epoch 20/40\n",
      "15000/15000 [==============================] - ETA: 0s - loss: 0.4229 - accuracy: 0.8026\n",
      "Epoch 20: val_accuracy improved from 0.79386 to 0.79441, saving model to ../glove_emb\\best_glove_embed.h5\n",
      "15000/15000 [==============================] - 273s 18ms/step - loss: 0.4229 - accuracy: 0.8026 - val_loss: 0.4376 - val_accuracy: 0.7944\n",
      "Epoch 21/40\n",
      "14998/15000 [============================>.] - ETA: 0s - loss: 0.4215 - accuracy: 0.8037\n",
      "Epoch 21: val_accuracy improved from 0.79441 to 0.79478, saving model to ../glove_emb\\best_glove_embed.h5\n",
      "15000/15000 [==============================] - 269s 18ms/step - loss: 0.4215 - accuracy: 0.8037 - val_loss: 0.4370 - val_accuracy: 0.7948\n",
      "Epoch 22/40\n",
      "14998/15000 [============================>.] - ETA: 0s - loss: 0.4203 - accuracy: 0.8041\n",
      "Epoch 22: val_accuracy did not improve from 0.79478\n",
      "15000/15000 [==============================] - 272s 18ms/step - loss: 0.4203 - accuracy: 0.8041 - val_loss: 0.4380 - val_accuracy: 0.7933\n",
      "Epoch 23/40\n",
      "15000/15000 [==============================] - ETA: 0s - loss: 0.4190 - accuracy: 0.8050\n",
      "Epoch 23: val_accuracy improved from 0.79478 to 0.79567, saving model to ../glove_emb\\best_glove_embed.h5\n",
      "15000/15000 [==============================] - 288s 19ms/step - loss: 0.4190 - accuracy: 0.8050 - val_loss: 0.4366 - val_accuracy: 0.7957\n",
      "Epoch 24/40\n",
      "14999/15000 [============================>.] - ETA: 0s - loss: 0.4178 - accuracy: 0.8056\n",
      "Epoch 24: val_accuracy did not improve from 0.79567\n",
      "15000/15000 [==============================] - 293s 20ms/step - loss: 0.4178 - accuracy: 0.8056 - val_loss: 0.4373 - val_accuracy: 0.7945\n",
      "Epoch 25/40\n",
      "14999/15000 [============================>.] - ETA: 0s - loss: 0.4165 - accuracy: 0.8064\n",
      "Epoch 25: val_accuracy did not improve from 0.79567\n",
      "15000/15000 [==============================] - 311s 21ms/step - loss: 0.4165 - accuracy: 0.8064 - val_loss: 0.4415 - val_accuracy: 0.7934\n",
      "Epoch 26/40\n",
      "14999/15000 [============================>.] - ETA: 0s - loss: 0.4153 - accuracy: 0.8070\n",
      "Epoch 26: val_accuracy improved from 0.79567 to 0.79577, saving model to ../glove_emb\\best_glove_embed.h5\n",
      "15000/15000 [==============================] - 363s 24ms/step - loss: 0.4153 - accuracy: 0.8070 - val_loss: 0.4357 - val_accuracy: 0.7958\n",
      "Epoch 27/40\n",
      "14999/15000 [============================>.] - ETA: 0s - loss: 0.4142 - accuracy: 0.8077\n",
      "Epoch 27: val_accuracy did not improve from 0.79577\n",
      "15000/15000 [==============================] - 324s 22ms/step - loss: 0.4142 - accuracy: 0.8077 - val_loss: 0.4368 - val_accuracy: 0.7955\n",
      "Epoch 28/40\n",
      "15000/15000 [==============================] - ETA: 0s - loss: 0.4131 - accuracy: 0.8084\n",
      "Epoch 28: val_accuracy did not improve from 0.79577\n",
      "15000/15000 [==============================] - 323s 22ms/step - loss: 0.4131 - accuracy: 0.8084 - val_loss: 0.4372 - val_accuracy: 0.7946\n",
      "Epoch 29/40\n",
      "14998/15000 [============================>.] - ETA: 0s - loss: 0.4120 - accuracy: 0.8089\n",
      "Epoch 29: val_accuracy did not improve from 0.79577\n",
      "15000/15000 [==============================] - 338s 23ms/step - loss: 0.4120 - accuracy: 0.8089 - val_loss: 0.4350 - val_accuracy: 0.7956\n",
      "Epoch 29: early stopping\n"
     ]
    },
    {
     "name": "stderr",
     "output_type": "stream",
     "text": [
      "c:\\Users\\julia\\Desktop\\Projet #7\\.env\\Lib\\site-packages\\_distutils_hack\\__init__.py:33: UserWarning: Setuptools is replacing distutils.\n",
      "  warnings.warn(\"Setuptools is replacing distutils.\")\n"
     ]
    },
    {
     "name": "stdout",
     "output_type": "stream",
     "text": [
      "Training Time --> 7939.595215320587\n"
     ]
    },
    {
     "name": "stderr",
     "output_type": "stream",
     "text": [
      "Registered model 'Model Optimized Glove' already exists. Creating a new version of this model...\n",
      "Created version '2' of model 'Model Optimized Glove'.\n"
     ]
    }
   ],
   "source": [
    "# Start an experiment\n",
    "with mlflow.start_run(run_name=\"Optimized Glove LSTM\"):\n",
    "    # Log parameters\n",
    "    mlflow.log_param(\"optimizer\", \"Adam\")\n",
    "    mlflow.log_param(\"learning_rate\", 5e-5)\n",
    "    mlflow.log_param(\"loss_function\", \"SparseCategoricalCrossentropy\")\n",
    "    mlflow.log_param(\"metric\", \"SparseCategoricalAccuracy\")\n",
    "    mlflow.log_param(\"batch_size\", 64)\n",
    "    mlflow.log_param(\"epochs\", 40)\n",
    "\n",
    "    # Define callbacks\n",
    "    checkpoint = ModelCheckpoint('../glove_emb/best_glove_embed.h5', monitor='val_accuracy', mode='max', verbose=1, save_best_only=True)\n",
    "    early_stopping = EarlyStopping(monitor='val_accuracy', patience=3, verbose=1, mode='max')\n",
    "\n",
    "    # Train the model\n",
    "    start_time = time.time()\n",
    "    history_optimized_glove = optimized_glove.fit(X_train, y_train, validation_data=(X_val, y_val), batch_size=64, epochs=40, callbacks=[checkpoint, early_stopping])\n",
    "    end_time = time.time()\n",
    "\n",
    "    # Log model\n",
    "    mlflow.sklearn.log_model(optimized_glove, \"optimized_glove\")\n",
    "\n",
    "    # Register model to the model registry\n",
    "    run_id = mlflow.active_run().info.run_id\n",
    "    mlflow.register_model(f\"runs:/{run_id}/model\", \"Model Optimized Glove\")\n",
    "\n",
    "    # Log metrics\n",
    "    mlflow.log_metric(\"accuracy\", history_optimized_glove.history['accuracy'][-1])\n",
    "    mlflow.log_metric(\"val_accuracy\", history_optimized_glove.history['val_accuracy'][-1])\n",
    "\n",
    "time_optimized_glove = end_time - start_time\n",
    "print(f\"Training Time --> {time_optimized_glove}\")"
   ]
  },
  {
   "cell_type": "code",
   "execution_count": 10,
   "metadata": {},
   "outputs": [
    {
     "data": {
      "image/png": "[encoded data removed]",
      "text/plain": [
       "<Figure size 1000x500 with 2 Axes>"
      ]
     },
     "metadata": {},
     "output_type": "display_data"
    }
   ],
   "source": [
    "show_history(history_optimized_glove)\n",
    "plot_history(history_optimized_glove, path=\"../history_models/optimized_glove.png\")\n",
    "plt.close()"
   ]
  },
  {
   "cell_type": "code",
   "execution_count": 11,
   "metadata": {},
   "outputs": [
    {
     "name": "stdout",
     "output_type": "stream",
     "text": [
      "Loss: 0.44\n",
      "Accuracy: 79.40\n"
     ]
    }
   ],
   "source": [
    "# Load the best model\n",
    "optimized_glove = load_model('../glove_emb/best_glove_embed.h5')\n",
    "\n",
    "# Evaluate the model on the test set\n",
    "loss, accuracy_optimized_glove = optimized_glove.evaluate(X_test, y_test, verbose=0)\n",
    "print('Loss: %.2f' % loss)\n",
    "print('Accuracy: %.2f' % (accuracy_optimized_glove*100))"
   ]
  }
 ],
 "metadata": {
  "kernelspec": {
   "display_name": ".env",
   "language": "python",
   "name": "python3"
  },
  "language_info": {
   "codemirror_mode": {
    "name": "ipython",
    "version": 3
   },
   "file_extension": ".py",
   "mimetype": "text/x-python",
   "name": "python",
   "nbconvert_exporter": "python",
   "pygments_lexer": "ipython3",
   "version": "3.11.7"
  }
 },
 "nbformat": 4,
 "nbformat_minor": 2
}
