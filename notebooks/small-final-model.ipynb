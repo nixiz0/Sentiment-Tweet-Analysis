{
 "cells": [
  {
   "cell_type": "markdown",
   "metadata": {},
   "source": [
    "# **4-Perform sentiment analysis using Deep Learning**\n",
    "We have to reduce the weigth of our glove model, so we will train it not on all the data but on sample."
   ]
  },
  {
   "cell_type": "code",
   "execution_count": 1,
   "metadata": {},
   "outputs": [],
   "source": [
    "glove_embed = '../glove_emb/train_tweet_emb/glove.twitter.27B.100d.txt'\n",
    "df_clean = '../data/df_clean.csv'"
   ]
  },
  {
   "cell_type": "code",
   "execution_count": 2,
   "metadata": {},
   "outputs": [
    {
     "name": "stdout",
     "output_type": "stream",
     "text": [
      "WARNING:tensorflow:From c:\\Users\\julia\\Desktop\\Projet #7\\.env\\Lib\\site-packages\\keras\\src\\losses.py:2976: The name tf.losses.sparse_softmax_cross_entropy is deprecated. Please use tf.compat.v1.losses.sparse_softmax_cross_entropy instead.\n",
      "\n"
     ]
    }
   ],
   "source": [
    "import numpy as np\n",
    "import pandas as pd\n",
    "import matplotlib.pyplot as plt\n",
    "import mlflow\n",
    "import time\n",
    "import pickle\n",
    "\n",
    "from sklearn.model_selection import train_test_split\n",
    "from keras.optimizers import Adam\n",
    "from keras.models import Sequential\n",
    "from keras.layers import Dense, Embedding, LSTM\n",
    "from keras.losses import SparseCategoricalCrossentropy\n",
    "from keras.preprocessing.text import Tokenizer\n",
    "from keras.preprocessing.sequence import pad_sequences\n",
    "from keras.metrics import SparseCategoricalAccuracy\n",
    "from plot_keras_history import show_history, plot_history\n",
    "from tensorflow.keras.callbacks import ModelCheckpoint, EarlyStopping\n",
    "from tensorflow.keras.models import load_model"
   ]
  },
  {
   "cell_type": "code",
   "execution_count": 3,
   "metadata": {},
   "outputs": [
    {
     "name": "stdout",
     "output_type": "stream",
     "text": [
      "numpy - 1.26.3\n",
      "pandas - 2.2.0\n",
      "mlflow - 2.10.0\n"
     ]
    }
   ],
   "source": [
    "# Version of the libraries used\n",
    "print('\\n'.join(f'{m.__name__} - {m.__version__}'\n",
    "                for m in globals().values()\n",
    "                if getattr(m, '__version__', None)))"
   ]
  },
  {
   "cell_type": "markdown",
   "metadata": {},
   "source": [
    "---"
   ]
  },
  {
   "cell_type": "code",
   "execution_count": 4,
   "metadata": {},
   "outputs": [],
   "source": [
    "# Read the cleaned and processing CSV file\n",
    "df = pd.read_csv(df_clean, encoding='latin1')"
   ]
  },
  {
   "cell_type": "code",
   "execution_count": 5,
   "metadata": {},
   "outputs": [
    {
     "data": {
      "text/plain": [
       "(1599999, 2)"
      ]
     },
     "execution_count": 5,
     "metadata": {},
     "output_type": "execute_result"
    }
   ],
   "source": [
    "df.shape"
   ]
  },
  {
   "cell_type": "code",
   "execution_count": 6,
   "metadata": {},
   "outputs": [],
   "source": [
    "df_class_0 = df[df['target'] == 0]\n",
    "df_class_1 = df[df['target'] == 1]\n",
    "\n",
    "# Take 20% from each class\n",
    "df_class_0_sample = df_class_0.sample(frac=0.4)\n",
    "df_class_1_sample = df_class_1.sample(frac=0.4)\n",
    "\n",
    "# Concatenate the two dataframes to obtain a balanced dataframe\n",
    "df_sample = pd.concat([df_class_0_sample, df_class_1_sample])\n",
    "\n",
    "# Reset the index\n",
    "df_sample = df_sample.reset_index(drop=True)"
   ]
  },
  {
   "cell_type": "code",
   "execution_count": 7,
   "metadata": {},
   "outputs": [
    {
     "data": {
      "text/plain": [
       "(640000, 2)"
      ]
     },
     "execution_count": 7,
     "metadata": {},
     "output_type": "execute_result"
    }
   ],
   "source": [
    "df_sample.shape"
   ]
  },
  {
   "cell_type": "code",
   "execution_count": 9,
   "metadata": {},
   "outputs": [
    {
     "data": {
      "text/plain": [
       "target\n",
       "0    320000\n",
       "1    320000\n",
       "Name: count, dtype: int64"
      ]
     },
     "execution_count": 9,
     "metadata": {},
     "output_type": "execute_result"
    }
   ],
   "source": [
    "df_sample['target'].value_counts()"
   ]
  },
  {
   "cell_type": "code",
   "execution_count": 10,
   "metadata": {},
   "outputs": [],
   "source": [
    "# Prepare training data\n",
    "sentences = df_sample['text'].astype(str)\n",
    "labels = df_sample['target']\n",
    "\n",
    "# Initialize the tokenizer\n",
    "tokenizer = Tokenizer()\n",
    "tokenizer.fit_on_texts(sentences)\n",
    "\n",
    "# Save the tokenizer\n",
    "with open('../glove_emb/small_tokenizer_v2.pickle', 'wb') as handle:\n",
    "    pickle.dump(tokenizer, handle, protocol=pickle.HIGHEST_PROTOCOL)\n",
    "\n",
    "# Transform sentences into sequences\n",
    "sequences = tokenizer.texts_to_sequences(sentences)\n",
    "\n",
    "# Padding sequences so that they are all the same length\n",
    "data = pad_sequences(sequences)\n",
    "\n",
    "# Split the data into training and testing sets\n",
    "X_train, X_test, y_train, y_test = train_test_split(data, labels, test_size=0.2, random_state=5)\n",
    "\n",
    "# Further split the training data into training and validation sets\n",
    "X_train, X_val, y_train, y_val = train_test_split(X_train, y_train, test_size=0.25, random_state=5)"
   ]
  },
  {
   "cell_type": "code",
   "execution_count": 11,
   "metadata": {},
   "outputs": [],
   "source": [
    "# Load GloVe embeddings\n",
    "embeddings_index = {}\n",
    "with open(glove_embed, encoding='utf-8') as f:\n",
    "    for line in f:\n",
    "        values = line.split()\n",
    "        word = values[0]\n",
    "        coefs = np.asarray(values[1:], dtype='float32')\n",
    "        embeddings_index[word] = coefs"
   ]
  },
  {
   "cell_type": "code",
   "execution_count": 12,
   "metadata": {},
   "outputs": [],
   "source": [
    "# Prepare the embeddings matrix\n",
    "embedding_matrix = np.zeros((len(tokenizer.word_index) + 1, 100))\n",
    "for word, i in tokenizer.word_index.items():\n",
    "    embedding_vector = embeddings_index.get(word)\n",
    "    if embedding_vector is not None:\n",
    "        embedding_matrix[i] = embedding_vector"
   ]
  },
  {
   "cell_type": "code",
   "execution_count": 13,
   "metadata": {},
   "outputs": [
    {
     "name": "stdout",
     "output_type": "stream",
     "text": [
      "WARNING:tensorflow:From c:\\Users\\julia\\Desktop\\Projet #7\\.env\\Lib\\site-packages\\keras\\src\\backend.py:873: The name tf.get_default_graph is deprecated. Please use tf.compat.v1.get_default_graph instead.\n",
      "\n"
     ]
    }
   ],
   "source": [
    "# Build the model\n",
    "small_glove = Sequential()\n",
    "small_glove.add(Embedding(len(tokenizer.word_index) + 1, 100, weights=[embedding_matrix], trainable=False))\n",
    "small_glove.add(LSTM(128))\n",
    "small_glove.add(Dense(2, activation='softmax'))\n",
    "\n",
    "# Compile the model\n",
    "optimizer = Adam(learning_rate=5e-5)\n",
    "loss = SparseCategoricalCrossentropy(from_logits=True)\n",
    "metric = SparseCategoricalAccuracy('accuracy')\n",
    "\n",
    "small_glove.compile(optimizer=optimizer, loss=loss, metrics=[metric])"
   ]
  },
  {
   "cell_type": "code",
   "execution_count": 14,
   "metadata": {},
   "outputs": [
    {
     "name": "stdout",
     "output_type": "stream",
     "text": [
      "Epoch 1/40\n",
      "WARNING:tensorflow:From c:\\Users\\julia\\Desktop\\Projet #7\\.env\\Lib\\site-packages\\keras\\src\\utils\\tf_utils.py:492: The name tf.ragged.RaggedTensorValue is deprecated. Please use tf.compat.v1.ragged.RaggedTensorValue instead.\n",
      "\n"
     ]
    },
    {
     "name": "stderr",
     "output_type": "stream",
     "text": [
      "c:\\Users\\julia\\Desktop\\Projet #7\\.env\\Lib\\site-packages\\keras\\src\\backend.py:5727: UserWarning: \"`sparse_categorical_crossentropy` received `from_logits=True`, but the `output` argument was produced by a Softmax activation and thus does not represent logits. Was this intended?\n",
      "  output, from_logits = _get_logits(\n"
     ]
    },
    {
     "name": "stdout",
     "output_type": "stream",
     "text": [
      "5997/6000 [============================>.] - ETA: 0s - loss: 0.5334 - accuracy: 0.7323\n",
      "Epoch 1: val_accuracy improved from -inf to 0.74932, saving model to ../glove_emb\\small_glove_embed_v2.h5\n"
     ]
    },
    {
     "name": "stderr",
     "output_type": "stream",
     "text": [
      "c:\\Users\\julia\\Desktop\\Projet #7\\.env\\Lib\\site-packages\\keras\\src\\engine\\training.py:3103: UserWarning: You are saving your model as an HDF5 file via `model.save()`. This file format is considered legacy. We recommend using instead the native Keras format, e.g. `model.save('my_model.keras')`.\n",
      "  saving_api.save_model(\n"
     ]
    },
    {
     "name": "stdout",
     "output_type": "stream",
     "text": [
      "6000/6000 [==============================] - 101s 17ms/step - loss: 0.5334 - accuracy: 0.7324 - val_loss: 0.5075 - val_accuracy: 0.7493\n",
      "Epoch 2/40\n",
      "6000/6000 [==============================] - ETA: 0s - loss: 0.5003 - accuracy: 0.7547\n",
      "Epoch 2: val_accuracy improved from 0.74932 to 0.75863, saving model to ../glove_emb\\small_glove_embed_v2.h5\n",
      "6000/6000 [==============================] - 97s 16ms/step - loss: 0.5003 - accuracy: 0.7547 - val_loss: 0.4939 - val_accuracy: 0.7586\n",
      "Epoch 3/40\n",
      "5999/6000 [============================>.] - ETA: 0s - loss: 0.4877 - accuracy: 0.7633\n",
      "Epoch 3: val_accuracy improved from 0.75863 to 0.76551, saving model to ../glove_emb\\small_glove_embed_v2.h5\n",
      "6000/6000 [==============================] - 97s 16ms/step - loss: 0.4877 - accuracy: 0.7633 - val_loss: 0.4844 - val_accuracy: 0.7655\n",
      "Epoch 4/40\n",
      "5997/6000 [============================>.] - ETA: 0s - loss: 0.4793 - accuracy: 0.7685\n",
      "Epoch 4: val_accuracy improved from 0.76551 to 0.76981, saving model to ../glove_emb\\small_glove_embed_v2.h5\n",
      "6000/6000 [==============================] - 95s 16ms/step - loss: 0.4793 - accuracy: 0.7685 - val_loss: 0.4776 - val_accuracy: 0.7698\n",
      "Epoch 5/40\n",
      "5999/6000 [============================>.] - ETA: 0s - loss: 0.4737 - accuracy: 0.7722\n",
      "Epoch 5: val_accuracy improved from 0.76981 to 0.77205, saving model to ../glove_emb\\small_glove_embed_v2.h5\n",
      "6000/6000 [==============================] - 93s 15ms/step - loss: 0.4737 - accuracy: 0.7722 - val_loss: 0.4738 - val_accuracy: 0.7721\n",
      "Epoch 6/40\n",
      "5997/6000 [============================>.] - ETA: 0s - loss: 0.4693 - accuracy: 0.7749\n",
      "Epoch 6: val_accuracy improved from 0.77205 to 0.77476, saving model to ../glove_emb\\small_glove_embed_v2.h5\n",
      "6000/6000 [==============================] - 96s 16ms/step - loss: 0.4693 - accuracy: 0.7749 - val_loss: 0.4703 - val_accuracy: 0.7748\n",
      "Epoch 7/40\n",
      "5997/6000 [============================>.] - ETA: 0s - loss: 0.4656 - accuracy: 0.7777\n",
      "Epoch 7: val_accuracy improved from 0.77476 to 0.77509, saving model to ../glove_emb\\small_glove_embed_v2.h5\n",
      "6000/6000 [==============================] - 96s 16ms/step - loss: 0.4656 - accuracy: 0.7777 - val_loss: 0.4681 - val_accuracy: 0.7751\n",
      "Epoch 8/40\n",
      "5997/6000 [============================>.] - ETA: 0s - loss: 0.4624 - accuracy: 0.7794\n",
      "Epoch 8: val_accuracy improved from 0.77509 to 0.77713, saving model to ../glove_emb\\small_glove_embed_v2.h5\n",
      "6000/6000 [==============================] - 96s 16ms/step - loss: 0.4624 - accuracy: 0.7794 - val_loss: 0.4663 - val_accuracy: 0.7771\n",
      "Epoch 9/40\n",
      "6000/6000 [==============================] - ETA: 0s - loss: 0.4594 - accuracy: 0.7812\n",
      "Epoch 9: val_accuracy improved from 0.77713 to 0.77866, saving model to ../glove_emb\\small_glove_embed_v2.h5\n",
      "6000/6000 [==============================] - 101s 17ms/step - loss: 0.4594 - accuracy: 0.7812 - val_loss: 0.4645 - val_accuracy: 0.7787\n",
      "Epoch 10/40\n",
      "6000/6000 [==============================] - ETA: 0s - loss: 0.4568 - accuracy: 0.7825\n",
      "Epoch 10: val_accuracy did not improve from 0.77866\n",
      "6000/6000 [==============================] - 100s 17ms/step - loss: 0.4568 - accuracy: 0.7825 - val_loss: 0.4652 - val_accuracy: 0.7772\n",
      "Epoch 11/40\n",
      "5999/6000 [============================>.] - ETA: 0s - loss: 0.4544 - accuracy: 0.7847\n",
      "Epoch 11: val_accuracy improved from 0.77866 to 0.77975, saving model to ../glove_emb\\small_glove_embed_v2.h5\n",
      "6000/6000 [==============================] - 93s 15ms/step - loss: 0.4544 - accuracy: 0.7847 - val_loss: 0.4618 - val_accuracy: 0.7797\n",
      "Epoch 12/40\n",
      "6000/6000 [==============================] - ETA: 0s - loss: 0.4520 - accuracy: 0.7856\n",
      "Epoch 12: val_accuracy improved from 0.77975 to 0.78058, saving model to ../glove_emb\\small_glove_embed_v2.h5\n",
      "6000/6000 [==============================] - 93s 15ms/step - loss: 0.4520 - accuracy: 0.7856 - val_loss: 0.4608 - val_accuracy: 0.7806\n",
      "Epoch 13/40\n",
      "5997/6000 [============================>.] - ETA: 0s - loss: 0.4499 - accuracy: 0.7868\n",
      "Epoch 13: val_accuracy improved from 0.78058 to 0.78109, saving model to ../glove_emb\\small_glove_embed_v2.h5\n",
      "6000/6000 [==============================] - 97s 16ms/step - loss: 0.4499 - accuracy: 0.7868 - val_loss: 0.4595 - val_accuracy: 0.7811\n",
      "Epoch 14/40\n",
      "6000/6000 [==============================] - ETA: 0s - loss: 0.4478 - accuracy: 0.7878\n",
      "Epoch 14: val_accuracy improved from 0.78109 to 0.78146, saving model to ../glove_emb\\small_glove_embed_v2.h5\n",
      "6000/6000 [==============================] - 131s 22ms/step - loss: 0.4478 - accuracy: 0.7878 - val_loss: 0.4588 - val_accuracy: 0.7815\n",
      "Epoch 15/40\n",
      "5997/6000 [============================>.] - ETA: 0s - loss: 0.4459 - accuracy: 0.7894\n",
      "Epoch 15: val_accuracy improved from 0.78146 to 0.78180, saving model to ../glove_emb\\small_glove_embed_v2.h5\n",
      "6000/6000 [==============================] - 99s 16ms/step - loss: 0.4459 - accuracy: 0.7894 - val_loss: 0.4579 - val_accuracy: 0.7818\n",
      "Epoch 16/40\n",
      "5999/6000 [============================>.] - ETA: 0s - loss: 0.4440 - accuracy: 0.7907\n",
      "Epoch 16: val_accuracy improved from 0.78180 to 0.78270, saving model to ../glove_emb\\small_glove_embed_v2.h5\n",
      "6000/6000 [==============================] - 99s 16ms/step - loss: 0.4440 - accuracy: 0.7907 - val_loss: 0.4565 - val_accuracy: 0.7827\n",
      "Epoch 17/40\n",
      "5997/6000 [============================>.] - ETA: 0s - loss: 0.4424 - accuracy: 0.7910\n",
      "Epoch 17: val_accuracy did not improve from 0.78270\n",
      "6000/6000 [==============================] - 94s 16ms/step - loss: 0.4424 - accuracy: 0.7910 - val_loss: 0.4560 - val_accuracy: 0.7823\n",
      "Epoch 18/40\n",
      "6000/6000 [==============================] - ETA: 0s - loss: 0.4404 - accuracy: 0.7929\n",
      "Epoch 18: val_accuracy improved from 0.78270 to 0.78334, saving model to ../glove_emb\\small_glove_embed_v2.h5\n",
      "6000/6000 [==============================] - 96s 16ms/step - loss: 0.4404 - accuracy: 0.7929 - val_loss: 0.4557 - val_accuracy: 0.7833\n",
      "Epoch 19/40\n",
      "5999/6000 [============================>.] - ETA: 0s - loss: 0.4390 - accuracy: 0.7932\n",
      "Epoch 19: val_accuracy did not improve from 0.78334\n",
      "6000/6000 [==============================] - 105s 17ms/step - loss: 0.4390 - accuracy: 0.7932 - val_loss: 0.4560 - val_accuracy: 0.7833\n",
      "Epoch 20/40\n",
      "6000/6000 [==============================] - ETA: 0s - loss: 0.4371 - accuracy: 0.7948\n",
      "Epoch 20: val_accuracy did not improve from 0.78334\n",
      "6000/6000 [==============================] - 102s 17ms/step - loss: 0.4371 - accuracy: 0.7948 - val_loss: 0.4589 - val_accuracy: 0.7812\n",
      "Epoch 21/40\n",
      "5999/6000 [============================>.] - ETA: 0s - loss: 0.4355 - accuracy: 0.7954\n",
      "Epoch 21: val_accuracy improved from 0.78334 to 0.78409, saving model to ../glove_emb\\small_glove_embed_v2.h5\n",
      "6000/6000 [==============================] - 98s 16ms/step - loss: 0.4355 - accuracy: 0.7954 - val_loss: 0.4540 - val_accuracy: 0.7841\n",
      "Epoch 22/40\n",
      "5997/6000 [============================>.] - ETA: 0s - loss: 0.4339 - accuracy: 0.7964\n",
      "Epoch 22: val_accuracy improved from 0.78409 to 0.78503, saving model to ../glove_emb\\small_glove_embed_v2.h5\n",
      "6000/6000 [==============================] - 98s 16ms/step - loss: 0.4339 - accuracy: 0.7964 - val_loss: 0.4542 - val_accuracy: 0.7850\n",
      "Epoch 23/40\n",
      "5997/6000 [============================>.] - ETA: 0s - loss: 0.4324 - accuracy: 0.7974\n",
      "Epoch 23: val_accuracy did not improve from 0.78503\n",
      "6000/6000 [==============================] - 98s 16ms/step - loss: 0.4324 - accuracy: 0.7974 - val_loss: 0.4552 - val_accuracy: 0.7832\n",
      "Epoch 24/40\n",
      "5998/6000 [============================>.] - ETA: 0s - loss: 0.4309 - accuracy: 0.7980\n",
      "Epoch 24: val_accuracy did not improve from 0.78503\n",
      "6000/6000 [==============================] - 98s 16ms/step - loss: 0.4309 - accuracy: 0.7980 - val_loss: 0.4545 - val_accuracy: 0.7848\n",
      "Epoch 25/40\n",
      "5998/6000 [============================>.] - ETA: 0s - loss: 0.4296 - accuracy: 0.7989\n",
      "Epoch 25: val_accuracy did not improve from 0.78503\n",
      "6000/6000 [==============================] - 98s 16ms/step - loss: 0.4296 - accuracy: 0.7988 - val_loss: 0.4554 - val_accuracy: 0.7835\n",
      "Epoch 25: early stopping\n",
      "Training Time --> 2468.4545800685883\n"
     ]
    },
    {
     "name": "stderr",
     "output_type": "stream",
     "text": [
      "c:\\Users\\julia\\Desktop\\Projet #7\\.env\\Lib\\site-packages\\_distutils_hack\\__init__.py:33: UserWarning: Setuptools is replacing distutils.\n",
      "  warnings.warn(\"Setuptools is replacing distutils.\")\n",
      "Successfully registered model 'Model Small Glove V2'.\n",
      "Created version '1' of model 'Model Small Glove V2'.\n"
     ]
    }
   ],
   "source": [
    "# Start an experiment\n",
    "with mlflow.start_run(run_name=\"Small Glove LSTM V2\"):\n",
    "    # Log parameters\n",
    "    mlflow.log_param(\"optimizer\", \"Adam\")\n",
    "    mlflow.log_param(\"learning_rate\", 5e-5)\n",
    "    mlflow.log_param(\"loss_function\", \"SparseCategoricalCrossentropy\")\n",
    "    mlflow.log_param(\"metric\", \"SparseCategoricalAccuracy\")\n",
    "    mlflow.log_param(\"batch_size\", 64)\n",
    "    mlflow.log_param(\"epochs\", 40)\n",
    "\n",
    "    # Define callbacks\n",
    "    checkpoint = ModelCheckpoint('../glove_emb/small_glove_embed_v2.h5', monitor='val_accuracy', mode='max', verbose=1, save_best_only=True)\n",
    "    early_stopping = EarlyStopping(monitor='val_accuracy', patience=3, verbose=1, mode='max')\n",
    "\n",
    "    # Train the model\n",
    "    start_time = time.time()\n",
    "    history_small_glove = small_glove.fit(X_train, y_train, validation_data=(X_val, y_val), batch_size=64, epochs=40, callbacks=[checkpoint, early_stopping])\n",
    "    end_time = time.time()\n",
    "\n",
    "    # Log model\n",
    "    mlflow.sklearn.log_model(small_glove, \"small_glove v2\")\n",
    "\n",
    "    # Register model to the model registry\n",
    "    run_id = mlflow.active_run().info.run_id\n",
    "    mlflow.register_model(f\"runs:/{run_id}/model\", \"Model Small Glove V2\")\n",
    "\n",
    "    # Log metrics\n",
    "    mlflow.log_metric(\"accuracy\", history_small_glove.history['accuracy'][-1])\n",
    "    mlflow.log_metric(\"val_accuracy\", history_small_glove.history['val_accuracy'][-1])\n",
    "\n",
    "time_optimized_glove = end_time - start_time\n",
    "print(f\"Training Time --> {time_optimized_glove}\")"
   ]
  },
  {
   "cell_type": "code",
   "execution_count": 15,
   "metadata": {},
   "outputs": [
    {
     "data": {
      "image/png": "[encoded data removed]",
      "text/plain": [
       "<Figure size 1000x500 with 2 Axes>"
      ]
     },
     "metadata": {},
     "output_type": "display_data"
    }
   ],
   "source": [
    "show_history(history_small_glove)\n",
    "plot_history(history_small_glove, path=\"../history_models/small_glove_v2.png\")\n",
    "plt.close()"
   ]
  },
  {
   "cell_type": "code",
   "execution_count": 16,
   "metadata": {},
   "outputs": [
    {
     "name": "stdout",
     "output_type": "stream",
     "text": [
      "Loss: 0.45\n",
      "Accuracy: 78.65\n"
     ]
    }
   ],
   "source": [
    "# Load the best model\n",
    "small_glove = load_model('../glove_emb/small_glove_embed_v2.h5')\n",
    "\n",
    "# Evaluate the model on the test set\n",
    "loss, accuracy_small_glove = small_glove.evaluate(X_test, y_test, verbose=0)\n",
    "print('Loss: %.2f' % loss)\n",
    "print('Accuracy: %.2f' % (accuracy_small_glove*100))"
   ]
  }
 ],
 "metadata": {
  "kernelspec": {
   "display_name": ".env",
   "language": "python",
   "name": "python3"
  },
  "language_info": {
   "codemirror_mode": {
    "name": "ipython",
    "version": 3
   },
   "file_extension": ".py",
   "mimetype": "text/x-python",
   "name": "python",
   "nbconvert_exporter": "python",
   "pygments_lexer": "ipython3",
   "version": "3.11.7"
  }
 },
 "nbformat": 4,
 "nbformat_minor": 2
}
