{
  "cells": [
    {
      "cell_type": "markdown",
      "metadata": {
        "id": "LZvJwQjgxyk4"
      },
      "source": [
        "# **2-Perform sentiment analysis using Deep Learning**\n",
        "Using classic and advanced models on our preprocessed textual data."
      ]
    },
    {
      "cell_type": "markdown",
      "metadata": {
        "id": "MNEJWWSixyk8"
      },
      "source": [
        "* [II. Text Models](#ii-text-models)\n",
        "    - [A. Simple Models](#a-simple-models)\n",
        "        * [1- DummyClassifier](#1-dummy)\n",
        "        * [2- Logistic Regression](#2-logistic-regression)\n",
        "    - [B. Advanced Models](#b-advanced-models)\n",
        "        * [1- Glove](#1-glove)\n",
        "        * [2- Word2Vec](#2-word2vec)\n",
        "        * [3- USE](#3-use)\n",
        "        * [4- BERT](#4-bert)\n",
        "\n",
        "* [Results of Models](#results)"
      ]
    },
    {
      "cell_type": "code",
      "execution_count": 27,
      "metadata": {},
      "outputs": [],
      "source": [
        "import os\n",
        "\n",
        "# Create the 'glove_emb' folder if it does not exist\n",
        "if not os.path.exists('../glove_emb'):\n",
        "    os.makedirs('../glove_emb')\n",
        "\n",
        "# Create subfolder 'train_tweet_emb' in 'glove_emb' if it does not exist\n",
        "if not os.path.exists('../glove_emb/train_tweet_emb'):\n",
        "    os.makedirs('../glove_emb/train_tweet_emb')"
      ]
    },
    {
      "cell_type": "markdown",
      "metadata": {},
      "source": [
        "If you haven't downloaded the 'glove.twitter.27B.100d.txt', you can downloaded in this link : **https://www.kaggle.com/datasets/bertcarremans/glovetwitter27b100dtxt**.\n",
        "\n",
        "After you have downloaded the file you must put *'glove.twitter.27B.100d.txt'* on the folder *glove_emb* and *train_tweet_emb*."
      ]
    },
    {
      "cell_type": "code",
      "execution_count": 28,
      "metadata": {
        "id": "R5XmisG6-RmE"
      },
      "outputs": [],
      "source": [
        "glove_embed = '../glove_emb/train_tweet_emb/glove.twitter.27B.100d.txt'\n",
        "df_clean = '../data/df_clean.csv'"
      ]
    },
    {
      "cell_type": "code",
      "execution_count": 29,
      "metadata": {
        "id": "pCZZTB8dxyk8"
      },
      "outputs": [],
      "source": [
        "import numpy as np\n",
        "import pandas as pd\n",
        "import matplotlib.pyplot as plt\n",
        "import seaborn as sns\n",
        "import random\n",
        "import tensorflow as tf\n",
        "import tensorflow_hub as hub\n",
        "import mlflow\n",
        "import time\n",
        "\n",
        "from sklearn.feature_extraction.text import TfidfVectorizer\n",
        "from sklearn.dummy import DummyClassifier\n",
        "from sklearn.model_selection import train_test_split\n",
        "from sklearn.metrics import accuracy_score, classification_report, confusion_matrix, precision_score, recall_score\n",
        "from sklearn.linear_model import LogisticRegression\n",
        "from gensim.models import Word2Vec\n",
        "from keras.preprocessing.text import Tokenizer\n",
        "from keras.preprocessing.sequence import pad_sequences\n",
        "from keras.optimizers import Adam\n",
        "from keras.models import Sequential, Model\n",
        "from keras.layers import Dense, Embedding, GlobalAveragePooling1D, Input, LSTM\n",
        "from keras.losses import SparseCategoricalCrossentropy\n",
        "from keras.metrics import SparseCategoricalAccuracy\n",
        "from plot_keras_history import show_history, plot_history\n",
        "from transformers import BertTokenizer, TFBertModel"
      ]
    },
    {
      "cell_type": "code",
      "execution_count": 30,
      "metadata": {
        "colab": {
          "base_uri": "https://localhost:8080/"
        },
        "id": "qL-wII_Xxyk-",
        "outputId": "c1ecb2a0-d356-4aa7-c4d1-61a773f2c547"
      },
      "outputs": [
        {
          "name": "stdout",
          "output_type": "stream",
          "text": [
            "numpy - 1.26.3\n",
            "pandas - 2.2.0\n",
            "seaborn - 0.13.2\n",
            "tensorflow - 2.15.0\n",
            "tensorflow_hub - 0.16.1\n",
            "mlflow - 2.10.0\n"
          ]
        }
      ],
      "source": [
        "# Version of the libraries used\n",
        "print('\\n'.join(f'{m.__name__} - {m.__version__}'\n",
        "                for m in globals().values()\n",
        "                if getattr(m, '__version__', None)))"
      ]
    },
    {
      "cell_type": "markdown",
      "metadata": {
        "id": "U4XVStKC_AIW"
      },
      "source": [
        "To use MLFlow we will use ngrok to have the dashboard"
      ]
    },
    {
      "cell_type": "markdown",
      "metadata": {
        "id": "2lA_7tOrxyk-"
      },
      "source": [
        "---\n",
        "<a id='ii-text-models'></a>\n",
        "# **II. Text Models**\n",
        "Words Embeddings on different models, first we will try a simple model and then use more sophisticated models already trained in transfer learning."
      ]
    },
    {
      "cell_type": "code",
      "execution_count": 31,
      "metadata": {
        "id": "oWMWIeYZxyk_"
      },
      "outputs": [],
      "source": [
        "# Read the cleaned and processing CSV file\n",
        "df = pd.read_csv(df_clean, encoding='latin1')"
      ]
    },
    {
      "cell_type": "code",
      "execution_count": 32,
      "metadata": {
        "colab": {
          "base_uri": "https://localhost:8080/",
          "height": 424
        },
        "id": "2z64BOspxyk_",
        "outputId": "8d2113a0-2258-4de2-cb4a-5000312d5a0e"
      },
      "outputs": [
        {
          "data": {
            "text/html": [
              "<div>\n",
              "<style scoped>\n",
              "    .dataframe tbody tr th:only-of-type {\n",
              "        vertical-align: middle;\n",
              "    }\n",
              "\n",
              "    .dataframe tbody tr th {\n",
              "        vertical-align: top;\n",
              "    }\n",
              "\n",
              "    .dataframe thead th {\n",
              "        text-align: right;\n",
              "    }\n",
              "</style>\n",
              "<table border=\"1\" class=\"dataframe\">\n",
              "  <thead>\n",
              "    <tr style=\"text-align: right;\">\n",
              "      <th></th>\n",
              "      <th>target</th>\n",
              "      <th>text</th>\n",
              "    </tr>\n",
              "  </thead>\n",
              "  <tbody>\n",
              "    <tr>\n",
              "      <th>0</th>\n",
              "      <td>0</td>\n",
              "      <td>upset cant update facebook texting might cry r...</td>\n",
              "    </tr>\n",
              "    <tr>\n",
              "      <th>1</th>\n",
              "      <td>0</td>\n",
              "      <td>dived many time ball managed save 50 rest go b...</td>\n",
              "    </tr>\n",
              "    <tr>\n",
              "      <th>2</th>\n",
              "      <td>0</td>\n",
              "      <td>whole body feel itchy like fire</td>\n",
              "    </tr>\n",
              "    <tr>\n",
              "      <th>3</th>\n",
              "      <td>0</td>\n",
              "      <td>behaving im mad cant see</td>\n",
              "    </tr>\n",
              "    <tr>\n",
              "      <th>4</th>\n",
              "      <td>0</td>\n",
              "      <td>whole crew</td>\n",
              "    </tr>\n",
              "    <tr>\n",
              "      <th>...</th>\n",
              "      <td>...</td>\n",
              "      <td>...</td>\n",
              "    </tr>\n",
              "    <tr>\n",
              "      <th>1599994</th>\n",
              "      <td>1</td>\n",
              "      <td>woke school best feeling ever</td>\n",
              "    </tr>\n",
              "    <tr>\n",
              "      <th>1599995</th>\n",
              "      <td>1</td>\n",
              "      <td>thewdbcom cool hear old walt interview httpbli...</td>\n",
              "    </tr>\n",
              "    <tr>\n",
              "      <th>1599996</th>\n",
              "      <td>1</td>\n",
              "      <td>ready mojo makeover ask detail</td>\n",
              "    </tr>\n",
              "    <tr>\n",
              "      <th>1599997</th>\n",
              "      <td>1</td>\n",
              "      <td>happy 38th birthday boo alll time tupac amaru ...</td>\n",
              "    </tr>\n",
              "    <tr>\n",
              "      <th>1599998</th>\n",
              "      <td>1</td>\n",
              "      <td>happy charitytuesday</td>\n",
              "    </tr>\n",
              "  </tbody>\n",
              "</table>\n",
              "<p>1599999 rows × 2 columns</p>\n",
              "</div>"
            ],
            "text/plain": [
              "         target                                               text\n",
              "0             0  upset cant update facebook texting might cry r...\n",
              "1             0  dived many time ball managed save 50 rest go b...\n",
              "2             0                    whole body feel itchy like fire\n",
              "3             0                           behaving im mad cant see\n",
              "4             0                                         whole crew\n",
              "...         ...                                                ...\n",
              "1599994       1                      woke school best feeling ever\n",
              "1599995       1  thewdbcom cool hear old walt interview httpbli...\n",
              "1599996       1                     ready mojo makeover ask detail\n",
              "1599997       1  happy 38th birthday boo alll time tupac amaru ...\n",
              "1599998       1                               happy charitytuesday\n",
              "\n",
              "[1599999 rows x 2 columns]"
            ]
          },
          "metadata": {},
          "output_type": "display_data"
        }
      ],
      "source": [
        "display(df)"
      ]
    },
    {
      "cell_type": "markdown",
      "metadata": {
        "id": "JP9uRFi6xyk_"
      },
      "source": [
        "---\n",
        "<a id='a-simple-models'></a>\n",
        "### **A. Simple Models**\n",
        "Basic models usage.\n",
        "\n",
        "<a id='1-dummy'></a>\n",
        "**1- DummyClassifier**    "
      ]
    },
    {
      "cell_type": "code",
      "execution_count": 33,
      "metadata": {
        "id": "1vlU4pwXxylA"
      },
      "outputs": [],
      "source": [
        "X = df.drop('target', axis=1)\n",
        "y = df['target']\n",
        "\n",
        "# Split data into training and testing sets\n",
        "X_train, X_test, y_train, y_test = train_test_split(X, y, test_size=0.2, random_state=5)"
      ]
    },
    {
      "cell_type": "markdown",
      "metadata": {
        "id": "rfmCBcdPxylA"
      },
      "source": [
        "Creation of the train test split for the dummy, here the model doesn't need to preprocess the text so we don't do any processing on the text."
      ]
    },
    {
      "cell_type": "code",
      "execution_count": 34,
      "metadata": {
        "id": "V8TonPaVxylA"
      },
      "outputs": [],
      "source": [
        "# Create a DummyClassifier\n",
        "dummy_clf = DummyClassifier(strategy=\"most_frequent\")\n",
        "\n",
        "# Train the DummyClassifier\n",
        "dummy_clf.fit(X_train, y_train)\n",
        "\n",
        "# Predict test values\n",
        "dummy_predictions = dummy_clf.predict(X_test)"
      ]
    },
    {
      "cell_type": "code",
      "execution_count": 35,
      "metadata": {
        "colab": {
          "base_uri": "https://localhost:8080/"
        },
        "id": "yzwjTeLQxylA",
        "outputId": "a2d4bb82-f513-4582-aee0-646a3c5c6eff"
      },
      "outputs": [
        {
          "name": "stdout",
          "output_type": "stream",
          "text": [
            "The accuracy of the DummyClassifier is: 0.5\n"
          ]
        }
      ],
      "source": [
        "# Calculate accuracy\n",
        "accuracy = accuracy_score(y_test, dummy_predictions)\n",
        "accuracy = np.round(accuracy, 1)\n",
        "\n",
        "print(f\"The accuracy of the DummyClassifier is: {accuracy}\")"
      ]
    },
    {
      "cell_type": "markdown",
      "metadata": {
        "id": "wBeP4HqbxylB"
      },
      "source": [
        "<a id='2-logistic-regression'></a>\n",
        "**2- Logistic Regression**"
      ]
    },
    {
      "cell_type": "code",
      "execution_count": 36,
      "metadata": {
        "colab": {
          "base_uri": "https://localhost:8080/"
        },
        "id": "p1d2gHZFxylB",
        "outputId": "c0f97e31-d5ea-467a-9584-d07717d0f7ae"
      },
      "outputs": [
        {
          "name": "stderr",
          "output_type": "stream",
          "text": [
            "c:\\Users\\julia\\Desktop\\Projet #7\\.env\\lib\\site-packages\\sklearn\\linear_model\\_logistic.py:469: ConvergenceWarning: lbfgs failed to converge (status=1):\n",
            "STOP: TOTAL NO. of ITERATIONS REACHED LIMIT.\n",
            "\n",
            "Increase the number of iterations (max_iter) or scale the data as shown in:\n",
            "    https://scikit-learn.org/stable/modules/preprocessing.html\n",
            "Please also refer to the documentation for alternative solver options:\n",
            "    https://scikit-learn.org/stable/modules/linear_model.html#logistic-regression\n",
            "  n_iter_i = _check_optimize_result(\n"
          ]
        }
      ],
      "source": [
        "df_tfidf = df.copy()\n",
        "y = df_tfidf['target']\n",
        "\n",
        "# Replace NaN values ​​with an empty string\n",
        "df_tfidf['text'] = df_tfidf['text'].fillna('')\n",
        "\n",
        "# Create an instance of TfidfVectorizer\n",
        "vectorizer = TfidfVectorizer()\n",
        "\n",
        "# Adapt the vectorizer to your data and transform your textual data\n",
        "X_lr = vectorizer.fit_transform(df_tfidf['text'])\n",
        "\n",
        "# Split data into training and testing sets\n",
        "X_train_lr, X_test_lr, y_train_lr, y_test_lr = train_test_split(X_lr, y, test_size=0.2, random_state=5)\n",
        "\n",
        "# Create an instance of LogisticRegression\n",
        "log_reg = LogisticRegression()\n",
        "\n",
        "# Train the logistic regression model\n",
        "log_reg.fit(X_train_lr, y_train_lr)\n",
        "\n",
        "# Predict test values\n",
        "log_reg_predictions = log_reg.predict(X_test_lr)"
      ]
    },
    {
      "cell_type": "code",
      "execution_count": 37,
      "metadata": {
        "colab": {
          "base_uri": "https://localhost:8080/"
        },
        "id": "X-JwfsmLxylB",
        "outputId": "b9b24c38-98ff-4afb-de08-fd431110d2e1"
      },
      "outputs": [
        {
          "name": "stdout",
          "output_type": "stream",
          "text": [
            "The accuracy of logistic regression is: 0.78\n"
          ]
        }
      ],
      "source": [
        "# Calculate accuracy\n",
        "log_reg_accuracy = accuracy_score(y_test_lr, log_reg_predictions)\n",
        "log_reg_accuracy = np.round(log_reg_accuracy, 2)\n",
        "\n",
        "print(f\"The accuracy of logistic regression is: {log_reg_accuracy}\")"
      ]
    },
    {
      "cell_type": "code",
      "execution_count": 38,
      "metadata": {
        "colab": {
          "base_uri": "https://localhost:8080/"
        },
        "id": "edpONMv8xylC",
        "outputId": "4f35f921-42db-4628-ef30-dacc89439656"
      },
      "outputs": [
        {
          "name": "stdout",
          "output_type": "stream",
          "text": [
            "              precision    recall  f1-score   support\n",
            "\n",
            "           0       0.79      0.76      0.78    159664\n",
            "           1       0.77      0.80      0.79    160336\n",
            "\n",
            "    accuracy                           0.78    320000\n",
            "   macro avg       0.78      0.78      0.78    320000\n",
            "weighted avg       0.78      0.78      0.78    320000\n",
            "\n"
          ]
        }
      ],
      "source": [
        "# Predict test values\n",
        "log_reg_predictions = log_reg.predict(X_test_lr)\n",
        "\n",
        "# Generate the classification report\n",
        "report = classification_report(y_test_lr, log_reg_predictions)\n",
        "print(report)"
      ]
    },
    {
      "cell_type": "markdown",
      "metadata": {
        "id": "K12SCmYKxylC"
      },
      "source": [
        "We have very good performance, we have a good balance between precision and recall for both classes."
      ]
    },
    {
      "cell_type": "code",
      "execution_count": 39,
      "metadata": {
        "colab": {
          "base_uri": "https://localhost:8080/",
          "height": 487
        },
        "id": "Vj3_xY_8xylC",
        "outputId": "d4a4b0b0-10c4-473d-e478-cf9d751a6e3c"
      },
      "outputs": [
        {
          "data": {
            "image/png": "[encoded data removed]",
            "text/plain": [
              "<Figure size 600x500 with 1 Axes>"
            ]
          },
          "metadata": {},
          "output_type": "display_data"
        }
      ],
      "source": [
        "# Generate the confusion matrix\n",
        "cm = confusion_matrix(y_test_lr, log_reg_predictions)\n",
        "\n",
        "# Create a DataFrame from the confusion matrix\n",
        "cm_df = pd.DataFrame(cm, index=[0, 4], columns=[0, 4])\n",
        "\n",
        "# Create a graph of the confusion matrix\n",
        "plt.figure(figsize=(6,5))\n",
        "sns.heatmap(cm_df, annot=True, cmap='Blues', fmt='g', cbar=False)\n",
        "plt.title('Confusion matrix for logistic regression')\n",
        "plt.ylabel('True Labels')\n",
        "plt.xlabel('Predicted')\n",
        "plt.show()"
      ]
    },
    {
      "cell_type": "markdown",
      "metadata": {
        "id": "7JSyzkYwxylC"
      },
      "source": [
        "We see that the class prediction errors are quite low, we have a slightly better performance for the predictions on class 4 (therefore positive) than the negative ones, this can be explained in particular by the fact as we observed previously during exploratory analysis that there is a stronger presence of positive words compared to negative ones."
      ]
    },
    {
      "cell_type": "code",
      "execution_count": 94,
      "metadata": {
        "colab": {
          "base_uri": "https://localhost:8080/"
        },
        "id": "iNz5HqXvxylC",
        "outputId": "e933b47d-14ee-40d6-edce-d18e6bec3d4c"
      },
      "outputs": [
        {
          "name": "stdout",
          "output_type": "stream",
          "text": [
            "Tweet: gotta go camping todayits gonna rain\n",
            "True Labels: 0\n",
            "Predicted: [0]\n"
          ]
        }
      ],
      "source": [
        "# Select a random sample from the test set\n",
        "random_index = random.randint(0, X_test_lr.shape[0]-1)\n",
        "random_tweet = X_test_lr[random_index]\n",
        "\n",
        "# Predict the target value for the random tweet\n",
        "random_tweet_prediction = log_reg.predict(random_tweet)\n",
        "\n",
        "# Get the actual target value for the random tweet\n",
        "actual_target_value = y_test_lr.iloc[random_index]\n",
        "\n",
        "print(f\"Tweet: {df_tfidf.loc[random_index, 'text']}\")\n",
        "print(f\"True Labels: {actual_target_value}\")\n",
        "print(f\"Predicted: {random_tweet_prediction}\")"
      ]
    },
    {
      "cell_type": "markdown",
      "metadata": {},
      "source": [
        "The logistic regression model works well here because the tweets are often short and easily contain a word that will trigger information on a feeling like 'love' 'like' 'hate' etc..\n",
        "\n",
        "So it's easy to group words carrying positive or negative information and to distinguish them clearly."
      ]
    },
    {
      "cell_type": "markdown",
      "metadata": {},
      "source": [
        "On the other hand where the logstic regression will be less efficient is in the context, as for example if we say \"I cannot not love you\" it's probable that in view of the negations the logistic regressions predict that it's negative even though it's not."
      ]
    },
    {
      "cell_type": "markdown",
      "metadata": {
        "id": "TrD6b6ySZmlg"
      },
      "source": [
        "---\n",
        "<a id='b-advanced-models'></a>\n",
        "### **B. Advanced Models**\n",
        "Avanced models usage and transfer learning.\n",
        "\n",
        "We will try to use Glove and Word2Vec which are word embedding models that transform words into digital vectors. These models are trained to capture the context of words in a text.\n",
        "\n",
        "Word2Vec is trained on local context (neighboring words), while GloVe examines the co-occurrence of words throughout the text or corpus, so it's approach is more global."
      ]
    },
    {
      "cell_type": "code",
      "execution_count": 41,
      "metadata": {
        "id": "QYFzOBYAZlXx"
      },
      "outputs": [],
      "source": [
        "# Prepare training data\n",
        "sentences = df['text'].astype(str)\n",
        "labels = df['target']\n",
        "\n",
        "# Initialize the tokenizer\n",
        "tokenizer = Tokenizer()\n",
        "tokenizer.fit_on_texts(sentences)\n",
        "\n",
        "# Transform sentences into sequences\n",
        "sequences = tokenizer.texts_to_sequences(sentences)\n",
        "\n",
        "# Padding sequences so that they are all the same length\n",
        "data = pad_sequences(sequences)\n",
        "\n",
        "# Split the data into training and testing sets\n",
        "X_train, X_test, y_train, y_test = train_test_split(data, labels, test_size=0.2, random_state=5)\n",
        "\n",
        "# Further split the training data into training and validation sets\n",
        "X_train, X_val, y_train, y_val = train_test_split(X_train, y_train, test_size=0.25, random_state=5)"
      ]
    },
    {
      "cell_type": "markdown",
      "metadata": {
        "id": "Lc8V6nMoZoCR"
      },
      "source": [
        "We tokenize our text and build a train test split to divide our dataset."
      ]
    },
    {
      "cell_type": "markdown",
      "metadata": {
        "id": "hhf_qbLNxylC"
      },
      "source": [
        "<a id='1-glove'></a>\n",
        "**1.1- Glove**    "
      ]
    },
    {
      "cell_type": "markdown",
      "metadata": {},
      "source": [
        "We use Glove with Glove embeddings trained on tweets on \"glove.twitter.27B.100d\" we use these embeddings because they are the most suitable for our project."
      ]
    },
    {
      "cell_type": "markdown",
      "metadata": {},
      "source": [
        "First we will try with a classic architecture using Glove."
      ]
    },
    {
      "cell_type": "code",
      "execution_count": 42,
      "metadata": {
        "id": "hqkQIp4QEjrp"
      },
      "outputs": [],
      "source": [
        "# Load GloVe embeddings\n",
        "embeddings_index = {}\n",
        "with open(glove_embed, encoding='utf-8') as f:\n",
        "    for line in f:\n",
        "        values = line.split()\n",
        "        word = values[0]\n",
        "        coefs = np.asarray(values[1:], dtype='float32')\n",
        "        embeddings_index[word] = coefs"
      ]
    },
    {
      "cell_type": "code",
      "execution_count": 43,
      "metadata": {
        "id": "LxmuD2e5Engt"
      },
      "outputs": [],
      "source": [
        "# Prepare the embeddings matrix\n",
        "embedding_matrix = np.zeros((len(tokenizer.word_index) + 1, 100))\n",
        "for word, i in tokenizer.word_index.items():\n",
        "    embedding_vector = embeddings_index.get(word)\n",
        "    if embedding_vector is not None:\n",
        "        embedding_matrix[i] = embedding_vector"
      ]
    },
    {
      "cell_type": "code",
      "execution_count": 44,
      "metadata": {
        "id": "GIJFBe1xEoQd"
      },
      "outputs": [],
      "source": [
        "# Build the model\n",
        "model_glove = Sequential()\n",
        "model_glove.add(Embedding(len(tokenizer.word_index) + 1, 100, weights=[embedding_matrix], trainable=False))\n",
        "model_glove.add(GlobalAveragePooling1D())\n",
        "model_glove.add(Dense(2, activation='softmax'))  # 2 is the number of classes\n",
        "\n",
        "# Compile the model\n",
        "optimizer = Adam(learning_rate=5e-5)\n",
        "loss = SparseCategoricalCrossentropy(from_logits=True)\n",
        "metric = SparseCategoricalAccuracy('accuracy')\n",
        "\n",
        "model_glove.compile(optimizer=optimizer, loss=loss, metrics=[metric])"
      ]
    },
    {
      "cell_type": "code",
      "execution_count": 45,
      "metadata": {
        "colab": {
          "base_uri": "https://localhost:8080/"
        },
        "id": "r8SvfPeiBvRJ",
        "outputId": "1847465d-28c3-4e2c-c331-1165c42eaa3a"
      },
      "outputs": [
        {
          "name": "stdout",
          "output_type": "stream",
          "text": [
            "Epoch 1/4\n"
          ]
        },
        {
          "name": "stderr",
          "output_type": "stream",
          "text": [
            "c:\\Users\\julia\\Desktop\\Projet #7\\.env\\lib\\site-packages\\keras\\src\\backend.py:5727: UserWarning: \"`sparse_categorical_crossentropy` received `from_logits=True`, but the `output` argument was produced by a Softmax activation and thus does not represent logits. Was this intended?\n",
            "  output, from_logits = _get_logits(\n"
          ]
        },
        {
          "name": "stdout",
          "output_type": "stream",
          "text": [
            "30000/30000 [==============================] - 46s 2ms/step - loss: 0.6311 - accuracy: 0.6804 - val_loss: 0.5955 - val_accuracy: 0.7030\n",
            "Epoch 2/4\n",
            "30000/30000 [==============================] - 46s 2ms/step - loss: 0.5823 - accuracy: 0.7099 - val_loss: 0.5724 - val_accuracy: 0.7148\n",
            "Epoch 3/4\n",
            "30000/30000 [==============================] - 46s 2ms/step - loss: 0.5668 - accuracy: 0.7183 - val_loss: 0.5622 - val_accuracy: 0.7204\n",
            "Epoch 4/4\n",
            "30000/30000 [==============================] - 46s 2ms/step - loss: 0.5591 - accuracy: 0.7230 - val_loss: 0.5566 - val_accuracy: 0.7242\n",
            "Training Time --> 184.60036087036133\n"
          ]
        },
        {
          "name": "stderr",
          "output_type": "stream",
          "text": [
            "Registered model 'Model Glove' already exists. Creating a new version of this model...\n",
            "Created version '2' of model 'Model Glove'.\n"
          ]
        }
      ],
      "source": [
        "# Start an experiment\n",
        "with mlflow.start_run(run_name=\"Model Glove\"):\n",
        "    # Log parameters\n",
        "    mlflow.log_param(\"optimizer\", \"Adam\")\n",
        "    mlflow.log_param(\"learning_rate\", 5e-5)\n",
        "    mlflow.log_param(\"loss_function\", \"SparseCategoricalCrossentropy\")\n",
        "    mlflow.log_param(\"metric\", \"SparseCategoricalAccuracy\")\n",
        "    mlflow.log_param(\"batch_size\", 32)\n",
        "    mlflow.log_param(\"epochs\", 4)\n",
        "\n",
        "    # Train the model\n",
        "    start_time = time.time()\n",
        "    history_glove = model_glove.fit(X_train, y_train, validation_data=(X_val, y_val), batch_size=32, epochs=4)\n",
        "    end_time = time.time()\n",
        "\n",
        "    # Log model\n",
        "    mlflow.sklearn.log_model(model_glove, \"model_glove\")\n",
        "\n",
        "    # Register model to the model registry\n",
        "    run_id = mlflow.active_run().info.run_id\n",
        "    mlflow.register_model(f\"runs:/{run_id}/model\", \"Model Glove\")\n",
        "\n",
        "    # Log metrics\n",
        "    mlflow.log_metric(\"accuracy\", history_glove.history['accuracy'][-1])\n",
        "    mlflow.log_metric(\"val_accuracy\", history_glove.history['val_accuracy'][-1])\n",
        "\n",
        "time_glove = end_time - start_time\n",
        "print(f\"Training Time --> {time_glove}\")"
      ]
    },
    {
      "cell_type": "code",
      "execution_count": 46,
      "metadata": {
        "colab": {
          "base_uri": "https://localhost:8080/",
          "height": 528
        },
        "id": "d6iJZHkCOiKW",
        "outputId": "140e74c4-1a89-45f3-b4ca-8aee7ec2de2e"
      },
      "outputs": [
        {
          "data": {
            "image/png": "[encoded data removed]",
            "text/plain": [
              "<Figure size 1000x500 with 2 Axes>"
            ]
          },
          "metadata": {},
          "output_type": "display_data"
        }
      ],
      "source": [
        "show_history(history_glove)\n",
        "plot_history(history_glove, path=\"../history_models/history_glove.png\")\n",
        "plt.close()"
      ]
    },
    {
      "cell_type": "code",
      "execution_count": 47,
      "metadata": {
        "colab": {
          "base_uri": "https://localhost:8080/"
        },
        "id": "I03CoqagFIDc",
        "outputId": "6e78f178-fc85-4de7-ef4f-1a19a765f3a5"
      },
      "outputs": [
        {
          "name": "stdout",
          "output_type": "stream",
          "text": [
            "Loss: 0.56\n",
            "Accuracy: 72.35\n"
          ]
        }
      ],
      "source": [
        "# Evaluate the model on the test set\n",
        "loss, accuracy_glove = model_glove.evaluate(X_test, y_test, verbose=0)\n",
        "print('Loss: %.2f' % loss)\n",
        "print('Accuracy: %.2f' % (accuracy_glove*100))"
      ]
    },
    {
      "cell_type": "code",
      "execution_count": 48,
      "metadata": {},
      "outputs": [
        {
          "name": "stdout",
          "output_type": "stream",
          "text": [
            "    1/10000 [..............................] - ETA: 9:47"
          ]
        },
        {
          "name": "stdout",
          "output_type": "stream",
          "text": [
            "10000/10000 [==============================] - 10s 1ms/step\n",
            "Precision: 72.37\n",
            "Recall: 72.35\n"
          ]
        }
      ],
      "source": [
        "# Predict probabilities for test set\n",
        "y_prob = model_glove.predict(X_test)\n",
        "\n",
        "# Get predicted classes\n",
        "y_pred = np.argmax(y_prob, axis=1)\n",
        "\n",
        "# Calculate precision and recall\n",
        "precision_glove = precision_score(y_test, y_pred, average='macro')\n",
        "recall_glove = recall_score(y_test, y_pred, average='macro')\n",
        "\n",
        "print('Precision: %.2f' % (precision_glove*100))\n",
        "print('Recall: %.2f' % (recall_glove*100))"
      ]
    },
    {
      "cell_type": "markdown",
      "metadata": {},
      "source": [
        "**1.2- Glove with LSTM**"
      ]
    },
    {
      "cell_type": "markdown",
      "metadata": {},
      "source": [
        "Now we will try with an LSTM layer which is a layer allowing to retain more information and to have a memory on the preceding words that it has seen.\n",
        "\n",
        "This allows you to have all the context of a sentence."
      ]
    },
    {
      "cell_type": "code",
      "execution_count": 49,
      "metadata": {},
      "outputs": [],
      "source": [
        "# Build the model\n",
        "model_glove_lstm = Sequential()\n",
        "model_glove_lstm.add(Embedding(len(tokenizer.word_index) + 1, 100, weights=[embedding_matrix], trainable=False))\n",
        "model_glove_lstm.add(LSTM(128))  # Add the LSTM layer\n",
        "model_glove_lstm.add(Dense(2, activation='softmax'))\n",
        "\n",
        "# Compile the model\n",
        "optimizer = Adam(learning_rate=5e-5)\n",
        "loss = SparseCategoricalCrossentropy(from_logits=True)\n",
        "metric = SparseCategoricalAccuracy('accuracy')\n",
        "\n",
        "model_glove_lstm.compile(optimizer=optimizer, loss=loss, metrics=[metric])"
      ]
    },
    {
      "cell_type": "code",
      "execution_count": 50,
      "metadata": {},
      "outputs": [
        {
          "name": "stdout",
          "output_type": "stream",
          "text": [
            "Epoch 1/4\n"
          ]
        },
        {
          "name": "stderr",
          "output_type": "stream",
          "text": [
            "c:\\Users\\julia\\Desktop\\Projet #7\\.env\\lib\\site-packages\\keras\\src\\backend.py:5727: UserWarning: \"`sparse_categorical_crossentropy` received `from_logits=True`, but the `output` argument was produced by a Softmax activation and thus does not represent logits. Was this intended?\n",
            "  output, from_logits = _get_logits(\n"
          ]
        },
        {
          "name": "stdout",
          "output_type": "stream",
          "text": [
            "30000/30000 [==============================] - 481s 16ms/step - loss: 0.5031 - accuracy: 0.7525 - val_loss: 0.4833 - val_accuracy: 0.7654\n",
            "Epoch 2/4\n",
            "30000/30000 [==============================] - 476s 16ms/step - loss: 0.4725 - accuracy: 0.7728 - val_loss: 0.4684 - val_accuracy: 0.7749\n",
            "Epoch 3/4\n",
            "30000/30000 [==============================] - 479s 16ms/step - loss: 0.4621 - accuracy: 0.7795 - val_loss: 0.4612 - val_accuracy: 0.7803\n",
            "Epoch 4/4\n",
            "30000/30000 [==============================] - 481s 16ms/step - loss: 0.4552 - accuracy: 0.7836 - val_loss: 0.4549 - val_accuracy: 0.7836\n",
            "Training Time --> 1916.9528522491455\n"
          ]
        },
        {
          "name": "stderr",
          "output_type": "stream",
          "text": [
            "Successfully registered model 'Model Glove with LSTM'.\n",
            "Created version '1' of model 'Model Glove with LSTM'.\n"
          ]
        }
      ],
      "source": [
        "# Start an experiment\n",
        "with mlflow.start_run(run_name=\"Model Glove with LSTM\"):\n",
        "    # Log parameters\n",
        "    mlflow.log_param(\"optimizer\", \"Adam\")\n",
        "    mlflow.log_param(\"learning_rate\", 5e-5)\n",
        "    mlflow.log_param(\"loss_function\", \"SparseCategoricalCrossentropy\")\n",
        "    mlflow.log_param(\"metric\", \"SparseCategoricalAccuracy\")\n",
        "    mlflow.log_param(\"batch_size\", 32)\n",
        "    mlflow.log_param(\"epochs\", 4)\n",
        "\n",
        "    # Train the model\n",
        "    start_time = time.time()\n",
        "    history_glove_lstm = model_glove_lstm.fit(X_train, y_train, validation_data=(X_val, y_val), batch_size=32, epochs=4)\n",
        "    end_time = time.time()\n",
        "\n",
        "    # Log model\n",
        "    mlflow.sklearn.log_model(model_glove_lstm, \"model_glove_lstm\")\n",
        "\n",
        "    # Register model to the model registry\n",
        "    run_id = mlflow.active_run().info.run_id\n",
        "    mlflow.register_model(f\"runs:/{run_id}/model\", \"Model Glove with LSTM\")\n",
        "\n",
        "    # Log metrics\n",
        "    mlflow.log_metric(\"accuracy\", history_glove_lstm.history['accuracy'][-1])\n",
        "    mlflow.log_metric(\"val_accuracy\", history_glove_lstm.history['val_accuracy'][-1])\n",
        "\n",
        "time_glove_lstm = end_time - start_time\n",
        "print(f\"Training Time --> {time_glove_lstm}\")"
      ]
    },
    {
      "cell_type": "code",
      "execution_count": 51,
      "metadata": {},
      "outputs": [
        {
          "data": {
            "image/png": "[encoded data removed]",
            "text/plain": [
              "<Figure size 1000x500 with 2 Axes>"
            ]
          },
          "metadata": {},
          "output_type": "display_data"
        }
      ],
      "source": [
        "show_history(history_glove_lstm)\n",
        "plot_history(history_glove_lstm, path=\"../history_models/history_glove_lstm.png\")\n",
        "plt.close()"
      ]
    },
    {
      "cell_type": "code",
      "execution_count": 52,
      "metadata": {},
      "outputs": [
        {
          "name": "stdout",
          "output_type": "stream",
          "text": [
            "Loss: 0.46\n",
            "Accuracy: 78.21\n"
          ]
        }
      ],
      "source": [
        "# Evaluate the model on the test set\n",
        "loss, accuracy_glove_lstm = model_glove_lstm.evaluate(X_test, y_test, verbose=0)\n",
        "print('Loss: %.2f' % loss)\n",
        "print('Accuracy: %.2f' % (accuracy_glove_lstm*100))"
      ]
    },
    {
      "cell_type": "code",
      "execution_count": 53,
      "metadata": {},
      "outputs": [
        {
          "name": "stdout",
          "output_type": "stream",
          "text": [
            "10000/10000 [==============================] - 72s 7ms/step\n",
            "Precision: 78.24\n",
            "Recall: 78.21\n"
          ]
        }
      ],
      "source": [
        "# Predict probabilities for test set\n",
        "y_prob = model_glove_lstm.predict(X_test)\n",
        "\n",
        "# Get predicted classes\n",
        "y_pred = np.argmax(y_prob, axis=1)\n",
        "\n",
        "# Calculate precision and recall\n",
        "precision_glove_lstm = precision_score(y_test, y_pred, average='macro')\n",
        "recall_glove_lstm = recall_score(y_test, y_pred, average='macro')\n",
        "\n",
        "print('Precision: %.2f' % (precision_glove_lstm*100))\n",
        "print('Recall: %.2f' % (recall_glove_lstm*100))"
      ]
    },
    {
      "cell_type": "markdown",
      "metadata": {},
      "source": [
        "We see that using an LSTM layer gives us better performance."
      ]
    },
    {
      "cell_type": "markdown",
      "metadata": {
        "id": "UkB6lhFaxylD"
      },
      "source": [
        "<a id='2-word2vec'></a>\n",
        "**2.1- Word2Vec**    "
      ]
    },
    {
      "cell_type": "markdown",
      "metadata": {},
      "source": [
        "We will also test Word2Vec in classic architecture and Word2Vec with an LSTM layer."
      ]
    },
    {
      "cell_type": "code",
      "execution_count": 54,
      "metadata": {
        "colab": {
          "base_uri": "https://localhost:8080/"
        },
        "id": "EIPzmsf9YB3r",
        "outputId": "182d9641-8733-4efb-bc8d-6320a668def1"
      },
      "outputs": [],
      "source": [
        "# Train Word2Vec model\n",
        "word2vec = Word2Vec(sentences, vector_size=100, window=5, min_count=1, workers=4)"
      ]
    },
    {
      "cell_type": "code",
      "execution_count": 55,
      "metadata": {
        "id": "wHux9MH-YDeg"
      },
      "outputs": [],
      "source": [
        "# Prepare the embeddings matrix\n",
        "embedding_matrix = np.zeros((len(tokenizer.word_index) + 1, 100))\n",
        "for word, i in tokenizer.word_index.items():\n",
        "    if word in word2vec.wv:\n",
        "        embedding_matrix[i] = word2vec.wv[word]"
      ]
    },
    {
      "cell_type": "code",
      "execution_count": 56,
      "metadata": {
        "id": "Mey7LBNnYEbO"
      },
      "outputs": [],
      "source": [
        "# Build the model\n",
        "model_word2vec = Sequential()\n",
        "model_word2vec.add(Embedding(len(tokenizer.word_index) + 1, 100, weights=[embedding_matrix], trainable=False))\n",
        "model_word2vec.add(GlobalAveragePooling1D())\n",
        "model_word2vec.add(Dense(2, activation='softmax'))  # 2 is the number of classes\n",
        "\n",
        "# Compile the model\n",
        "optimizer = Adam(learning_rate=5e-5)\n",
        "loss = SparseCategoricalCrossentropy(from_logits=True)\n",
        "metric = SparseCategoricalAccuracy('accuracy')\n",
        "\n",
        "model_word2vec.compile(optimizer=optimizer, loss=loss, metrics=[metric])"
      ]
    },
    {
      "cell_type": "code",
      "execution_count": 57,
      "metadata": {
        "colab": {
          "base_uri": "https://localhost:8080/"
        },
        "id": "fi3myjdqYIHo",
        "outputId": "6b1520ec-d259-46e1-b4a8-0123cd0d3afa"
      },
      "outputs": [
        {
          "name": "stdout",
          "output_type": "stream",
          "text": [
            "Epoch 1/4\n"
          ]
        },
        {
          "name": "stderr",
          "output_type": "stream",
          "text": [
            "c:\\Users\\julia\\Desktop\\Projet #7\\.env\\lib\\site-packages\\keras\\src\\backend.py:5727: UserWarning: \"`sparse_categorical_crossentropy` received `from_logits=True`, but the `output` argument was produced by a Softmax activation and thus does not represent logits. Was this intended?\n",
            "  output, from_logits = _get_logits(\n"
          ]
        },
        {
          "name": "stdout",
          "output_type": "stream",
          "text": [
            "30000/30000 [==============================] - 55s 2ms/step - loss: 0.6926 - accuracy: 0.5064 - val_loss: 0.6923 - val_accuracy: 0.5078\n",
            "Epoch 2/4\n",
            "30000/30000 [==============================] - 53s 2ms/step - loss: 0.6923 - accuracy: 0.5067 - val_loss: 0.6923 - val_accuracy: 0.5069\n",
            "Epoch 3/4\n",
            "30000/30000 [==============================] - 56s 2ms/step - loss: 0.6923 - accuracy: 0.5072 - val_loss: 0.6922 - val_accuracy: 0.5070\n",
            "Epoch 4/4\n",
            "30000/30000 [==============================] - 46s 2ms/step - loss: 0.6923 - accuracy: 0.5072 - val_loss: 0.6922 - val_accuracy: 0.5081\n",
            "Training Time --> 210.03068375587463\n"
          ]
        },
        {
          "name": "stderr",
          "output_type": "stream",
          "text": [
            "Successfully registered model 'Model Word2Vec'.\n",
            "Created version '1' of model 'Model Word2Vec'.\n"
          ]
        }
      ],
      "source": [
        "# Start an experiment\n",
        "with mlflow.start_run(run_name=\"Model Word2Vec\"):\n",
        "    # Log parameters\n",
        "    mlflow.log_param(\"optimizer\", \"Adam\")\n",
        "    mlflow.log_param(\"learning_rate\", 5e-5)\n",
        "    mlflow.log_param(\"loss_function\", \"SparseCategoricalCrossentropy\")\n",
        "    mlflow.log_param(\"metric\", \"SparseCategoricalAccuracy\")\n",
        "    mlflow.log_param(\"batch_size\", 32)\n",
        "    mlflow.log_param(\"epochs\", 4)\n",
        "\n",
        "    # Train the model\n",
        "    start_time = time.time()\n",
        "    history_word2vec = model_word2vec.fit(X_train, y_train, validation_data=(X_val, y_val), batch_size=32, epochs=4)\n",
        "    end_time = time.time()\n",
        "\n",
        "    # Log model\n",
        "    mlflow.sklearn.log_model(model_word2vec, \"model_word2vec\")\n",
        "\n",
        "    # Register model to the model registry\n",
        "    run_id = mlflow.active_run().info.run_id\n",
        "    mlflow.register_model(f\"runs:/{run_id}/model\", \"Model Word2Vec\")\n",
        "\n",
        "    # Log metrics\n",
        "    mlflow.log_metric(\"accuracy\", history_word2vec.history['accuracy'][-1])\n",
        "    mlflow.log_metric(\"val_accuracy\", history_word2vec.history['val_accuracy'][-1])\n",
        "\n",
        "time_word2vec = end_time - start_time\n",
        "print(f\"Training Time --> {time_word2vec}\")"
      ]
    },
    {
      "cell_type": "code",
      "execution_count": 58,
      "metadata": {
        "colab": {
          "base_uri": "https://localhost:8080/",
          "height": 528
        },
        "id": "dxVJUS3EYJuD",
        "outputId": "b4a3bc49-830b-4d7c-d5af-858ad10fbf9d"
      },
      "outputs": [
        {
          "data": {
            "image/png": "[encoded data removed]",
            "text/plain": [
              "<Figure size 1000x500 with 2 Axes>"
            ]
          },
          "metadata": {},
          "output_type": "display_data"
        }
      ],
      "source": [
        "show_history(history_word2vec)\n",
        "plot_history(history_word2vec, path=\"../history_models/history_word2vec.png\")\n",
        "plt.close()"
      ]
    },
    {
      "cell_type": "code",
      "execution_count": 59,
      "metadata": {
        "colab": {
          "base_uri": "https://localhost:8080/"
        },
        "id": "PYbniVzpX-Jf",
        "outputId": "51c7186e-c4b8-493d-bc83-837036cecb87"
      },
      "outputs": [
        {
          "name": "stdout",
          "output_type": "stream",
          "text": [
            "Loss: 0.69\n",
            "Accuracy: 50.86\n"
          ]
        }
      ],
      "source": [
        "# Evaluate the model on the test set\n",
        "loss, accuracy_word2vec = model_word2vec.evaluate(X_test, y_test, verbose=0)\n",
        "print('Loss: %.2f' % loss)\n",
        "print('Accuracy: %.2f' % (accuracy_word2vec*100))"
      ]
    },
    {
      "cell_type": "code",
      "execution_count": 60,
      "metadata": {},
      "outputs": [
        {
          "name": "stdout",
          "output_type": "stream",
          "text": [
            "10000/10000 [==============================] - 11s 1ms/step\n",
            "Precision: 53.32\n",
            "Recall: 50.77\n"
          ]
        }
      ],
      "source": [
        "# Predict probabilities for test set\n",
        "y_prob = model_word2vec.predict(X_test)\n",
        "\n",
        "# Get predicted classes\n",
        "y_pred = np.argmax(y_prob, axis=1)\n",
        "\n",
        "# Calculate precision and recall\n",
        "precision_word2vec = precision_score(y_test, y_pred, average='macro')\n",
        "recall_word2vec = recall_score(y_test, y_pred, average='macro')\n",
        "\n",
        "print('Precision: %.2f' % (precision_word2vec*100))\n",
        "print('Recall: %.2f' % (recall_word2vec*100))"
      ]
    },
    {
      "cell_type": "markdown",
      "metadata": {},
      "source": [
        "**2.2- Word2Vec with LSTM**    "
      ]
    },
    {
      "cell_type": "code",
      "execution_count": 61,
      "metadata": {},
      "outputs": [],
      "source": [
        "# Build the model\n",
        "model_word2vec_lstm = Sequential()\n",
        "model_word2vec_lstm.add(Embedding(len(tokenizer.word_index) + 1, 100, weights=[embedding_matrix], trainable=False))\n",
        "model_word2vec_lstm.add(LSTM(128))  # Add the LSTM\n",
        "model_word2vec_lstm.add(Dense(2, activation='softmax'))  # 2 is the number of classes\n",
        "\n",
        "# Compile the model\n",
        "optimizer = Adam(learning_rate=5e-5)\n",
        "loss = SparseCategoricalCrossentropy(from_logits=True)\n",
        "metric = SparseCategoricalAccuracy('accuracy')\n",
        "\n",
        "model_word2vec_lstm.compile(optimizer=optimizer, loss=loss, metrics=[metric])"
      ]
    },
    {
      "cell_type": "code",
      "execution_count": 62,
      "metadata": {},
      "outputs": [
        {
          "name": "stdout",
          "output_type": "stream",
          "text": [
            "Epoch 1/4\n"
          ]
        },
        {
          "name": "stderr",
          "output_type": "stream",
          "text": [
            "c:\\Users\\julia\\Desktop\\Projet #7\\.env\\lib\\site-packages\\keras\\src\\backend.py:5727: UserWarning: \"`sparse_categorical_crossentropy` received `from_logits=True`, but the `output` argument was produced by a Softmax activation and thus does not represent logits. Was this intended?\n",
            "  output, from_logits = _get_logits(\n"
          ]
        },
        {
          "name": "stdout",
          "output_type": "stream",
          "text": [
            "30000/30000 [==============================] - 497s 17ms/step - loss: 0.6922 - accuracy: 0.5071 - val_loss: 0.6920 - val_accuracy: 0.5077\n",
            "Epoch 2/4\n",
            "30000/30000 [==============================] - 522s 17ms/step - loss: 0.6920 - accuracy: 0.5083 - val_loss: 0.6918 - val_accuracy: 0.5088\n",
            "Epoch 3/4\n",
            "30000/30000 [==============================] - 456s 15ms/step - loss: 0.6919 - accuracy: 0.5071 - val_loss: 0.6918 - val_accuracy: 0.5088\n",
            "Epoch 4/4\n",
            "30000/30000 [==============================] - 435s 15ms/step - loss: 0.6918 - accuracy: 0.5082 - val_loss: 0.6918 - val_accuracy: 0.5080\n",
            "Training Time --> 1910.723296880722\n"
          ]
        },
        {
          "name": "stderr",
          "output_type": "stream",
          "text": [
            "Successfully registered model 'Model Word2Vec with LSTM'.\n",
            "Created version '1' of model 'Model Word2Vec with LSTM'.\n"
          ]
        }
      ],
      "source": [
        "# Start an experiment\n",
        "with mlflow.start_run(run_name=\"Model Word2Vec with LSTM\"):\n",
        "    # Log parameters\n",
        "    mlflow.log_param(\"optimizer\", \"Adam\")\n",
        "    mlflow.log_param(\"learning_rate\", 5e-5)\n",
        "    mlflow.log_param(\"loss_function\", \"SparseCategoricalCrossentropy\")\n",
        "    mlflow.log_param(\"metric\", \"SparseCategoricalAccuracy\")\n",
        "    mlflow.log_param(\"batch_size\", 32)\n",
        "    mlflow.log_param(\"epochs\", 4)\n",
        "\n",
        "    # Train the model\n",
        "    start_time = time.time()\n",
        "    history_word2vec_lstm = model_word2vec_lstm.fit(X_train, y_train, validation_data=(X_val, y_val), batch_size=32, epochs=4)\n",
        "    end_time = time.time()\n",
        "\n",
        "    # Log model\n",
        "    mlflow.sklearn.log_model(model_word2vec_lstm, \"model_word2vec_lstm\")\n",
        "\n",
        "    # Register model to the model registry\n",
        "    run_id = mlflow.active_run().info.run_id\n",
        "    mlflow.register_model(f\"runs:/{run_id}/model\", \"Model Word2Vec with LSTM\")\n",
        "\n",
        "    # Log metrics\n",
        "    mlflow.log_metric(\"accuracy\", history_word2vec_lstm.history['accuracy'][-1])\n",
        "    mlflow.log_metric(\"val_accuracy\", history_word2vec_lstm.history['val_accuracy'][-1])\n",
        "\n",
        "time_word2vec_lstm = end_time - start_time\n",
        "print(f\"Training Time --> {time_word2vec_lstm}\")"
      ]
    },
    {
      "cell_type": "code",
      "execution_count": 63,
      "metadata": {},
      "outputs": [
        {
          "data": {
            "image/png": "[encoded data removed]",
            "text/plain": [
              "<Figure size 1000x500 with 2 Axes>"
            ]
          },
          "metadata": {},
          "output_type": "display_data"
        }
      ],
      "source": [
        "show_history(history_word2vec_lstm)\n",
        "plot_history(history_word2vec_lstm, path=\"../history_models/history_word2vec_lstm.png\")\n",
        "plt.close()"
      ]
    },
    {
      "cell_type": "code",
      "execution_count": 64,
      "metadata": {},
      "outputs": [
        {
          "name": "stdout",
          "output_type": "stream",
          "text": [
            "Loss: 0.69\n",
            "Accuracy: 50.64\n"
          ]
        }
      ],
      "source": [
        "# Evaluate the model on the test set\n",
        "loss, accuracy_word2vec_lstm = model_word2vec_lstm.evaluate(X_test, y_test, verbose=0)\n",
        "print('Loss: %.2f' % loss)\n",
        "print('Accuracy: %.2f' % (accuracy_word2vec_lstm*100))"
      ]
    },
    {
      "cell_type": "code",
      "execution_count": 65,
      "metadata": {},
      "outputs": [
        {
          "name": "stdout",
          "output_type": "stream",
          "text": [
            "10000/10000 [==============================] - 59s 6ms/step\n",
            "Precision: 53.76\n",
            "Recall: 50.74\n"
          ]
        }
      ],
      "source": [
        "# Predict probabilities for test set\n",
        "y_prob = model_word2vec_lstm.predict(X_test)\n",
        "\n",
        "# Get predicted classes\n",
        "y_pred = np.argmax(y_prob, axis=1)\n",
        "\n",
        "# Calculate precision and recall\n",
        "precision_word2vec_lstm = precision_score(y_test, y_pred, average='macro')\n",
        "recall_word2vec_lstm = recall_score(y_test, y_pred, average='macro')\n",
        "\n",
        "print('Precision: %.2f' % (precision_word2vec_lstm*100))\n",
        "print('Recall: %.2f' % (recall_word2vec_lstm*100))"
      ]
    },
    {
      "cell_type": "markdown",
      "metadata": {},
      "source": [
        "We see that Word2Vec is not suitable for our data and he's very bad even with an LSTM layer."
      ]
    },
    {
      "cell_type": "markdown",
      "metadata": {
        "id": "VYEZLJI6qwAl"
      },
      "source": [
        "---"
      ]
    },
    {
      "cell_type": "markdown",
      "metadata": {
        "id": "NLrPn-iAqx-s"
      },
      "source": [
        "We will use 2 larger models than Word2Vec and Glove so here we will divide the data into smaller batches to prevent the RAM from blocking."
      ]
    },
    {
      "cell_type": "markdown",
      "metadata": {
        "id": "7-E0IQ_p9Qou"
      },
      "source": [
        "<a id='3-use'></a>\n",
        "**3- USE**"
      ]
    },
    {
      "cell_type": "markdown",
      "metadata": {},
      "source": [
        "We will now use USE which is a model which will encode not only words, but also entire sentences into digital vectors. This means it can capture the meaning of an entire sentence."
      ]
    },
    {
      "cell_type": "code",
      "execution_count": 66,
      "metadata": {
        "id": "tD4dNZ1I4KiK"
      },
      "outputs": [
        {
          "name": "stdout",
          "output_type": "stream",
          "text": [
            "WARNING:tensorflow:From c:\\Users\\julia\\Desktop\\Projet #7\\.env\\lib\\site-packages\\tensorflow_hub\\resolver.py:120: The name tf.gfile.MakeDirs is deprecated. Please use tf.io.gfile.makedirs instead.\n",
            "\n"
          ]
        },
        {
          "name": "stderr",
          "output_type": "stream",
          "text": [
            "WARNING:tensorflow:From c:\\Users\\julia\\Desktop\\Projet #7\\.env\\lib\\site-packages\\tensorflow_hub\\resolver.py:120: The name tf.gfile.MakeDirs is deprecated. Please use tf.io.gfile.makedirs instead.\n",
            "\n"
          ]
        },
        {
          "name": "stdout",
          "output_type": "stream",
          "text": [
            "WARNING:tensorflow:From c:\\Users\\julia\\Desktop\\Projet #7\\.env\\lib\\site-packages\\tensorflow_hub\\module_v2.py:126: The name tf.saved_model.load_v2 is deprecated. Please use tf.compat.v2.saved_model.load instead.\n",
            "\n"
          ]
        },
        {
          "name": "stderr",
          "output_type": "stream",
          "text": [
            "WARNING:tensorflow:From c:\\Users\\julia\\Desktop\\Projet #7\\.env\\lib\\site-packages\\tensorflow_hub\\module_v2.py:126: The name tf.saved_model.load_v2 is deprecated. Please use tf.compat.v2.saved_model.load instead.\n",
            "\n"
          ]
        }
      ],
      "source": [
        "# Prepare training data\n",
        "sentences = df['text'].astype(str)\n",
        "labels = df['target']\n",
        "\n",
        "# Load the Universal Sentence Encoder\n",
        "embed = hub.load(\"https://tfhub.dev/google/universal-sentence-encoder/4\")\n",
        "\n",
        "# Initialize an array for the embeddings\n",
        "embeddings = np.zeros((len(sentences), 512))\n",
        "\n",
        "# Use USE to vectorize sentences in batches to avoid memory issues\n",
        "batch_size = 32\n",
        "for i in range(0, len(sentences), batch_size):\n",
        "    batch = sentences[i:i+batch_size]\n",
        "    embeddings[i:i+batch_size] = embed(batch)"
      ]
    },
    {
      "cell_type": "code",
      "execution_count": 67,
      "metadata": {},
      "outputs": [],
      "source": [
        "# Split the data into training and testing sets\n",
        "X_train, X_test, y_train, y_test = train_test_split(embeddings, labels, test_size=0.2, random_state=5)\n",
        "\n",
        "# Further split the training data into training and validation sets\n",
        "X_train, X_val, y_train, y_val = train_test_split(X_train, y_train, test_size=0.25, random_state=5)"
      ]
    },
    {
      "cell_type": "code",
      "execution_count": 68,
      "metadata": {},
      "outputs": [],
      "source": [
        "# Build the model\n",
        "model_use = Sequential()\n",
        "model_use.add(Dense(512, input_shape=(512,), activation='relu'))\n",
        "model_use.add(Dense(2, activation='softmax'))  # 2 is the number of classes\n",
        "\n",
        "# Compile the model\n",
        "optimizer = Adam(learning_rate=5e-5)\n",
        "loss = SparseCategoricalCrossentropy(from_logits=True)\n",
        "metric = SparseCategoricalAccuracy('accuracy')\n",
        "\n",
        "model_use.compile(optimizer=optimizer, loss=loss, metrics=[metric])"
      ]
    },
    {
      "cell_type": "code",
      "execution_count": 69,
      "metadata": {
        "id": "98r-pvljwuO3"
      },
      "outputs": [
        {
          "name": "stdout",
          "output_type": "stream",
          "text": [
            "Epoch 1/4\n"
          ]
        },
        {
          "name": "stderr",
          "output_type": "stream",
          "text": [
            "c:\\Users\\julia\\Desktop\\Projet #7\\.env\\lib\\site-packages\\keras\\src\\backend.py:5727: UserWarning: \"`sparse_categorical_crossentropy` received `from_logits=True`, but the `output` argument was produced by a Softmax activation and thus does not represent logits. Was this intended?\n",
            "  output, from_logits = _get_logits(\n"
          ]
        },
        {
          "name": "stdout",
          "output_type": "stream",
          "text": [
            "30000/30000 [==============================] - 77s 3ms/step - loss: 0.5025 - accuracy: 0.7532 - val_loss: 0.4874 - val_accuracy: 0.7624\n",
            "Epoch 2/4\n",
            "30000/30000 [==============================] - 70s 2ms/step - loss: 0.4818 - accuracy: 0.7661 - val_loss: 0.4775 - val_accuracy: 0.7687\n",
            "Epoch 3/4\n",
            "30000/30000 [==============================] - 70s 2ms/step - loss: 0.4731 - accuracy: 0.7715 - val_loss: 0.4733 - val_accuracy: 0.7716\n",
            "Epoch 4/4\n",
            "30000/30000 [==============================] - 71s 2ms/step - loss: 0.4674 - accuracy: 0.7754 - val_loss: 0.4704 - val_accuracy: 0.7732\n",
            "Training Time --> 292.4012174606323\n"
          ]
        },
        {
          "name": "stderr",
          "output_type": "stream",
          "text": [
            "Successfully registered model 'Model USE'.\n",
            "Created version '1' of model 'Model USE'.\n"
          ]
        }
      ],
      "source": [
        "# Start an experiment\n",
        "with mlflow.start_run(run_name=\"Model USE\"):\n",
        "    # Log parameters\n",
        "    mlflow.log_param(\"optimizer\", \"Adam\")\n",
        "    mlflow.log_param(\"learning_rate\", 5e-5)\n",
        "    mlflow.log_param(\"loss_function\", \"SparseCategoricalCrossentropy\")\n",
        "    mlflow.log_param(\"metric\", \"SparseCategoricalAccuracy\")\n",
        "    mlflow.log_param(\"batch_size\", batch_size)\n",
        "    mlflow.log_param(\"epochs\", 4)\n",
        "\n",
        "    # Train the model\n",
        "    start_time = time.time()\n",
        "    history_use = model_use.fit(X_train, y_train, validation_data=(X_val, y_val), batch_size=batch_size, epochs=4)\n",
        "    end_time = time.time()\n",
        "\n",
        "    # Log model\n",
        "    mlflow.sklearn.log_model(model_use, \"model_use\")\n",
        "\n",
        "    # Register model to the model registry\n",
        "    run_id = mlflow.active_run().info.run_id\n",
        "    mlflow.register_model(f\"runs:/{run_id}/model\", \"Model USE\")\n",
        "\n",
        "    # Log metrics\n",
        "    mlflow.log_metric(\"accuracy\", history_use.history['accuracy'][-1])\n",
        "    mlflow.log_metric(\"val_accuracy\", history_use.history['val_accuracy'][-1])\n",
        "\n",
        "time_use = end_time - start_time\n",
        "print(f\"Training Time --> {time_use}\")"
      ]
    },
    {
      "cell_type": "code",
      "execution_count": 70,
      "metadata": {
        "id": "f02WmIyejiiZ"
      },
      "outputs": [
        {
          "data": {
            "image/png": "[encoded data removed]",
            "text/plain": [
              "<Figure size 1000x500 with 2 Axes>"
            ]
          },
          "metadata": {},
          "output_type": "display_data"
        }
      ],
      "source": [
        "show_history(history_use)\n",
        "plot_history(history_use, path=\"../history_models/history_use.png\")\n",
        "plt.close()"
      ]
    },
    {
      "cell_type": "code",
      "execution_count": 71,
      "metadata": {
        "id": "bM72x8ysjRUl"
      },
      "outputs": [
        {
          "name": "stdout",
          "output_type": "stream",
          "text": [
            "Loss: 0.47\n",
            "Accuracy: 77.24\n"
          ]
        }
      ],
      "source": [
        "# Evaluate the model on the test set\n",
        "loss, accuracy_use = model_use.evaluate(X_test, y_test, verbose=0)\n",
        "print('Loss: %.2f' % loss)\n",
        "print('Accuracy: %.2f' % (accuracy_use*100))"
      ]
    },
    {
      "cell_type": "code",
      "execution_count": 72,
      "metadata": {},
      "outputs": [
        {
          "name": "stdout",
          "output_type": "stream",
          "text": [
            "10000/10000 [==============================] - 10s 1ms/step\n",
            "Precision: 77.24\n",
            "Recall: 77.24\n"
          ]
        }
      ],
      "source": [
        "# Predict probabilities for test set\n",
        "y_prob = model_use.predict(X_test)\n",
        "\n",
        "# Get predicted classes\n",
        "y_pred = np.argmax(y_prob, axis=1)\n",
        "\n",
        "# Calculate precision and recall\n",
        "precision_use = precision_score(y_test, y_pred, average='macro')\n",
        "recall_use = recall_score(y_test, y_pred, average='macro')\n",
        "\n",
        "print('Precision: %.2f' % (precision_use*100))\n",
        "print('Recall: %.2f' % (recall_use*100))"
      ]
    },
    {
      "cell_type": "markdown",
      "metadata": {},
      "source": [
        "We see that the USE architecture which allows us to take the context of the sentences works well, we have very good performance, we have almost the same performance as for our Glove with LSTM layer."
      ]
    },
    {
      "cell_type": "markdown",
      "metadata": {
        "id": "fGvUU58KxylD"
      },
      "source": [
        "<a id='4-bert'></a>\n",
        "**4- BERT**    "
      ]
    },
    {
      "cell_type": "markdown",
      "metadata": {},
      "source": [
        "We will test to see if BERT has good performance, here for computational reasons we cannot train BERT on all our data so we will only take 1% of our data in balanced class.\n",
        "\n",
        "This will allow us to have a point of view with this analysis to see the performance contribution of a BERT model."
      ]
    },
    {
      "cell_type": "code",
      "execution_count": 73,
      "metadata": {},
      "outputs": [
        {
          "name": "stderr",
          "output_type": "stream",
          "text": [
            "Some weights of the PyTorch model were not used when initializing the TF 2.0 model TFBertModel: ['cls.seq_relationship.bias', 'cls.predictions.bias', 'cls.predictions.transform.LayerNorm.weight', 'cls.predictions.transform.dense.bias', 'cls.predictions.transform.dense.weight', 'cls.predictions.transform.LayerNorm.bias', 'cls.seq_relationship.weight']\n",
            "- This IS expected if you are initializing TFBertModel from a PyTorch model trained on another task or with another architecture (e.g. initializing a TFBertForSequenceClassification model from a BertForPreTraining model).\n",
            "- This IS NOT expected if you are initializing TFBertModel from a PyTorch model that you expect to be exactly identical (e.g. initializing a TFBertForSequenceClassification model from a BertForSequenceClassification model).\n",
            "All the weights of TFBertModel were initialized from the PyTorch model.\n",
            "If your task is similar to the task the model of the checkpoint was trained on, you can already use TFBertModel for predictions without further training.\n"
          ]
        }
      ],
      "source": [
        "# Get balanced data\n",
        "class_0 = df[df['target'] == 0].sample(frac=0.01)  # 1% of class 0\n",
        "class_1 = df[df['target'] == 1].sample(frac=0.01)  # 1% of class 1\n",
        "balanced_df = pd.concat([class_0, class_1])\n",
        "\n",
        "# Prepare training data\n",
        "sentences = balanced_df['text'].astype(str)\n",
        "labels = balanced_df['target'].values\n",
        "\n",
        "# Load BERT and the tokenizer\n",
        "tokenizer = BertTokenizer.from_pretrained('bert-base-uncased')\n",
        "model = TFBertModel.from_pretrained('bert-base-uncased')"
      ]
    },
    {
      "cell_type": "code",
      "execution_count": 74,
      "metadata": {},
      "outputs": [
        {
          "name": "stderr",
          "output_type": "stream",
          "text": [
            "Truncation was not explicitly activated but `max_length` is provided a specific value, please use `truncation=True` to explicitly truncate examples to max length. Defaulting to 'longest_first' truncation strategy. If you encode pairs of sequences (GLUE-style) with the tokenizer you can select this strategy more precisely by providing a specific strategy to `truncation`.\n",
            "c:\\Users\\julia\\Desktop\\Projet #7\\.env\\lib\\site-packages\\transformers\\tokenization_utils_base.py:2619: FutureWarning: The `pad_to_max_length` argument is deprecated and will be removed in a future version, use `padding=True` or `padding='longest'` to pad to the longest sequence in the batch, or use `padding='max_length'` to pad to a max length. In this case, you can give a specific length with `max_length` (e.g. `max_length=45`) or leave max_length to None to pad to the maximal input size of the model (e.g. 512 for Bert).\n",
            "  warnings.warn(\n"
          ]
        }
      ],
      "source": [
        "# Tokenize sentences\n",
        "input_ids = []\n",
        "attention_masks = []\n",
        "\n",
        "for sent in sentences:\n",
        "    encoded_dict = tokenizer.encode_plus(\n",
        "        sent,\n",
        "        add_special_tokens = True,\n",
        "        max_length = 64,\n",
        "        pad_to_max_length = True,\n",
        "        return_attention_mask = True,\n",
        "        return_tensors = 'tf',\n",
        "    )\n",
        "    \n",
        "    input_ids.append(encoded_dict['input_ids'])\n",
        "    attention_masks.append(encoded_dict['attention_mask'])\n",
        "\n",
        "input_ids = tf.concat(input_ids, axis=0)\n",
        "attention_masks = tf.concat(attention_masks, axis=0)"
      ]
    },
    {
      "cell_type": "code",
      "execution_count": 75,
      "metadata": {},
      "outputs": [],
      "source": [
        "# Convert tensors to numpy arrays\n",
        "input_ids = input_ids.numpy()\n",
        "attention_masks = attention_masks.numpy()  # Convert attention masks to numpy arrays\n",
        "\n",
        "# Split data into training, validation and testing sets\n",
        "X_train, X_temp, y_train, y_temp = train_test_split(input_ids, labels, test_size=0.4, random_state=5)\n",
        "X_val, X_test, y_val, y_test = train_test_split(X_temp, y_temp, test_size=0.5, random_state=5)\n",
        "\n",
        "# Similarly, split the attention masks\n",
        "attention_masks_train, attention_masks_temp = train_test_split(attention_masks, test_size=0.4, random_state=5)\n",
        "attention_masks_val, attention_masks_test = train_test_split(attention_masks_temp, test_size=0.5, random_state=5)"
      ]
    },
    {
      "cell_type": "code",
      "execution_count": 76,
      "metadata": {},
      "outputs": [],
      "source": [
        "# Build the model\n",
        "input_word_ids = Input(shape=(64,), dtype=tf.int32, name=\"input_word_ids\")\n",
        "input_mask = Input(shape=(64,), dtype=tf.int32, name=\"input_mask\")\n",
        "embeddings = model(input_word_ids, attention_mask=input_mask)[0]\n",
        "x = tf.keras.layers.GlobalAveragePooling1D()(embeddings)\n",
        "x = Dense(512, activation='relu')(x)\n",
        "out = Dense(2, activation='softmax')(x)  # 2 is the number of classes\n",
        "\n",
        "model_bert = Model(inputs=[input_word_ids, input_mask], outputs=out)\n",
        "\n",
        "# Compile the model\n",
        "optimizer = Adam(learning_rate=5e-5)\n",
        "loss = SparseCategoricalCrossentropy(from_logits=False)\n",
        "metric = SparseCategoricalAccuracy('accuracy')\n",
        "\n",
        "model_bert.compile(optimizer=optimizer, loss=loss, metrics=[metric])"
      ]
    },
    {
      "cell_type": "code",
      "execution_count": 77,
      "metadata": {},
      "outputs": [
        {
          "name": "stdout",
          "output_type": "stream",
          "text": [
            "WARNING:tensorflow:Gradients do not exist for variables ['tf_bert_model/bert/pooler/dense/kernel:0', 'tf_bert_model/bert/pooler/dense/bias:0'] when minimizing the loss. If you're using `model.compile()`, did you forget to provide a `loss` argument?\n"
          ]
        },
        {
          "name": "stderr",
          "output_type": "stream",
          "text": [
            "WARNING:tensorflow:Gradients do not exist for variables ['tf_bert_model/bert/pooler/dense/kernel:0', 'tf_bert_model/bert/pooler/dense/bias:0'] when minimizing the loss. If you're using `model.compile()`, did you forget to provide a `loss` argument?\n"
          ]
        },
        {
          "name": "stdout",
          "output_type": "stream",
          "text": [
            "WARNING:tensorflow:Gradients do not exist for variables ['tf_bert_model/bert/pooler/dense/kernel:0', 'tf_bert_model/bert/pooler/dense/bias:0'] when minimizing the loss. If you're using `model.compile()`, did you forget to provide a `loss` argument?\n"
          ]
        },
        {
          "name": "stderr",
          "output_type": "stream",
          "text": [
            "WARNING:tensorflow:Gradients do not exist for variables ['tf_bert_model/bert/pooler/dense/kernel:0', 'tf_bert_model/bert/pooler/dense/bias:0'] when minimizing the loss. If you're using `model.compile()`, did you forget to provide a `loss` argument?\n"
          ]
        },
        {
          "name": "stdout",
          "output_type": "stream",
          "text": [
            "WARNING:tensorflow:Gradients do not exist for variables ['tf_bert_model/bert/pooler/dense/kernel:0', 'tf_bert_model/bert/pooler/dense/bias:0'] when minimizing the loss. If you're using `model.compile()`, did you forget to provide a `loss` argument?\n"
          ]
        },
        {
          "name": "stderr",
          "output_type": "stream",
          "text": [
            "WARNING:tensorflow:Gradients do not exist for variables ['tf_bert_model/bert/pooler/dense/kernel:0', 'tf_bert_model/bert/pooler/dense/bias:0'] when minimizing the loss. If you're using `model.compile()`, did you forget to provide a `loss` argument?\n"
          ]
        },
        {
          "name": "stdout",
          "output_type": "stream",
          "text": [
            "WARNING:tensorflow:Gradients do not exist for variables ['tf_bert_model/bert/pooler/dense/kernel:0', 'tf_bert_model/bert/pooler/dense/bias:0'] when minimizing the loss. If you're using `model.compile()`, did you forget to provide a `loss` argument?\n"
          ]
        },
        {
          "name": "stderr",
          "output_type": "stream",
          "text": [
            "WARNING:tensorflow:Gradients do not exist for variables ['tf_bert_model/bert/pooler/dense/kernel:0', 'tf_bert_model/bert/pooler/dense/bias:0'] when minimizing the loss. If you're using `model.compile()`, did you forget to provide a `loss` argument?\n"
          ]
        },
        {
          "name": "stdout",
          "output_type": "stream",
          "text": [
            "150/150 [==============================] - 1970s 13s/step - loss: 0.6090 - accuracy: 0.6583 - val_loss: 0.5449 - val_accuracy: 0.7119\n"
          ]
        },
        {
          "name": "stderr",
          "output_type": "stream",
          "text": [
            "c:\\Users\\julia\\Desktop\\Projet #7\\.env\\lib\\site-packages\\transformers\\generation\\tf_utils.py:465: UserWarning: `seed_generator` is deprecated and will be removed in a future version.\n",
            "  warnings.warn(\"`seed_generator` is deprecated and will be removed in a future version.\", UserWarning)\n",
            "2024/02/04 18:25:26 WARNING mlflow.utils.environment: Encountered an unexpected error while inferring pip requirements (model URI: C:\\Users\\julia\\AppData\\Local\\Temp\\tmpjnqvgvbt\\model\\model.pkl, flavor: sklearn), fall back to return ['scikit-learn==1.4.0', 'cloudpickle==3.0.0']. Set logging level to DEBUG to see the full traceback.\n"
          ]
        },
        {
          "name": "stdout",
          "output_type": "stream",
          "text": [
            "Training Time --> 1970.451255083084\n"
          ]
        },
        {
          "name": "stderr",
          "output_type": "stream",
          "text": [
            "Successfully registered model 'Model BERT'.\n",
            "Created version '1' of model 'Model BERT'.\n"
          ]
        }
      ],
      "source": [
        "# Start an experiment\n",
        "with mlflow.start_run(run_name=\"Model BERT\"):\n",
        "    # Log parameters\n",
        "    mlflow.log_param(\"optimizer\", \"Adam\")\n",
        "    mlflow.log_param(\"learning_rate\", 5e-5)\n",
        "    mlflow.log_param(\"loss_function\", \"SparseCategoricalCrossentropy\")\n",
        "    mlflow.log_param(\"metric\", \"SparseCategoricalAccuracy\")\n",
        "    mlflow.log_param(\"batch_size\", 64)\n",
        "    mlflow.log_param(\"epochs\", 1)\n",
        "\n",
        "    # Train the model\n",
        "    start_time = time.time()\n",
        "    history_bert = model_bert.fit([X_train, attention_masks[:len(X_train)]], y_train, validation_data=([X_val, attention_masks[len(X_train):len(X_train)+len(X_val)]], y_val),\n",
        "                                batch_size=64, epochs=1)\n",
        "    end_time = time.time()\n",
        "\n",
        "    # Log model\n",
        "    mlflow.sklearn.log_model(model_bert, \"model_bert\")\n",
        "\n",
        "    # Register model to the model registry\n",
        "    run_id = mlflow.active_run().info.run_id\n",
        "    mlflow.register_model(f\"runs:/{run_id}/model\", \"Model BERT\")\n",
        "\n",
        "    # Log metrics\n",
        "    mlflow.log_metric(\"accuracy\", history_bert.history['accuracy'][-1])\n",
        "    mlflow.log_metric(\"val_accuracy\", history_bert.history['val_accuracy'][-1])\n",
        "\n",
        "time_bert = end_time - start_time\n",
        "print(f\"Training Time --> {time_bert}\")"
      ]
    },
    {
      "cell_type": "code",
      "execution_count": 78,
      "metadata": {
        "id": "9iGXMmQ2xylD"
      },
      "outputs": [
        {
          "name": "stdout",
          "output_type": "stream",
          "text": [
            "Loss: 0.49\n",
            "Accuracy: 78.12\n"
          ]
        }
      ],
      "source": [
        "# Evaluate the model on the test set\n",
        "loss, accuracy_bert = model_bert.evaluate([X_test, attention_masks_test], y_test, verbose=0)\n",
        "print('Loss: %.2f' % loss)\n",
        "print('Accuracy: %.2f' % (accuracy_bert*100))"
      ]
    },
    {
      "cell_type": "code",
      "execution_count": 79,
      "metadata": {},
      "outputs": [
        {
          "name": "stdout",
          "output_type": "stream",
          "text": [
            "100/100 [==============================] - 186s 2s/step\n",
            "Precision: 78.18\n",
            "Recall: 78.08\n"
          ]
        }
      ],
      "source": [
        "# Predict probabilities for test set\n",
        "y_prob = model_bert.predict([X_test, attention_masks_test])\n",
        "\n",
        "# Get predicted classes\n",
        "y_pred = np.argmax(y_prob, axis=1)\n",
        "\n",
        "# Calculate precision and recall\n",
        "precision_bert = precision_score(y_test, y_pred, average='macro')\n",
        "recall_bert = recall_score(y_test, y_pred, average='macro')\n",
        "\n",
        "print('Precision: %.2f' % (precision_bert*100))\n",
        "print('Recall: %.2f' % (recall_bert*100))"
      ]
    },
    {
      "cell_type": "markdown",
      "metadata": {},
      "source": [
        "We see that BERT with only 1 training on only 1% of our data obtains 73%, therefore better than Glove without LSTM, which shows that BERT is really efficient and effective, but it's a very heavy model and therefore it requires a lot of computational resources to train and works."
      ]
    },
    {
      "cell_type": "markdown",
      "metadata": {
        "id": "7JGH5LSrxylE"
      },
      "source": [
        "---\n",
        "---"
      ]
    },
    {
      "cell_type": "markdown",
      "metadata": {
        "id": "68J5rUGkxylE"
      },
      "source": [
        "<a id='results'></a>\n",
        "## **Results of Models** "
      ]
    },
    {
      "cell_type": "markdown",
      "metadata": {},
      "source": [
        "To see on the MLFlow dashboard we need to start the local server, first you need to put you in a shell in *notebooks* folder so do the commande : ```cd notebooks``` and after you can execute the command ```mlflow ui```.\n",
        "\n",
        "Now we can observe the results of our models on the local address: **http://localhost:5000**."
      ]
    },
    {
      "cell_type": "code",
      "execution_count": 80,
      "metadata": {
        "id": "LjEMYxdF9Qo1"
      },
      "outputs": [
        {
          "data": {
            "text/html": [
              "<div>\n",
              "<style scoped>\n",
              "    .dataframe tbody tr th:only-of-type {\n",
              "        vertical-align: middle;\n",
              "    }\n",
              "\n",
              "    .dataframe tbody tr th {\n",
              "        vertical-align: top;\n",
              "    }\n",
              "\n",
              "    .dataframe thead th {\n",
              "        text-align: right;\n",
              "    }\n",
              "</style>\n",
              "<table border=\"1\" class=\"dataframe\">\n",
              "  <thead>\n",
              "    <tr style=\"text-align: right;\">\n",
              "      <th></th>\n",
              "      <th>Model</th>\n",
              "      <th>Accuracy %</th>\n",
              "      <th>Precision %</th>\n",
              "      <th>Recall %</th>\n",
              "      <th>Train Time (min)</th>\n",
              "    </tr>\n",
              "  </thead>\n",
              "  <tbody>\n",
              "    <tr>\n",
              "      <th>0</th>\n",
              "      <td>GloVe</td>\n",
              "      <td>72.350001</td>\n",
              "      <td>72.367922</td>\n",
              "      <td>72.346870</td>\n",
              "      <td>3.076673</td>\n",
              "    </tr>\n",
              "    <tr>\n",
              "      <th>1</th>\n",
              "      <td>Glove (LSTM)</td>\n",
              "      <td>78.209376</td>\n",
              "      <td>78.236101</td>\n",
              "      <td>78.212540</td>\n",
              "      <td>31.949214</td>\n",
              "    </tr>\n",
              "    <tr>\n",
              "      <th>2</th>\n",
              "      <td>Word2Vec</td>\n",
              "      <td>50.860000</td>\n",
              "      <td>53.317196</td>\n",
              "      <td>50.767956</td>\n",
              "      <td>3.500511</td>\n",
              "    </tr>\n",
              "    <tr>\n",
              "      <th>3</th>\n",
              "      <td>Word2Vec (LSTM)</td>\n",
              "      <td>50.644690</td>\n",
              "      <td>53.759822</td>\n",
              "      <td>50.738811</td>\n",
              "      <td>31.845388</td>\n",
              "    </tr>\n",
              "    <tr>\n",
              "      <th>4</th>\n",
              "      <td>USE</td>\n",
              "      <td>77.239686</td>\n",
              "      <td>77.240113</td>\n",
              "      <td>77.240067</td>\n",
              "      <td>4.873354</td>\n",
              "    </tr>\n",
              "    <tr>\n",
              "      <th>5</th>\n",
              "      <td>BERT</td>\n",
              "      <td>78.125000</td>\n",
              "      <td>78.180683</td>\n",
              "      <td>78.080789</td>\n",
              "      <td>32.840854</td>\n",
              "    </tr>\n",
              "  </tbody>\n",
              "</table>\n",
              "</div>"
            ],
            "text/plain": [
              "             Model  Accuracy %  Precision %   Recall %  Train Time (min)\n",
              "0            GloVe   72.350001    72.367922  72.346870          3.076673\n",
              "1     Glove (LSTM)   78.209376    78.236101  78.212540         31.949214\n",
              "2         Word2Vec   50.860000    53.317196  50.767956          3.500511\n",
              "3  Word2Vec (LSTM)   50.644690    53.759822  50.738811         31.845388\n",
              "4              USE   77.239686    77.240113  77.240067          4.873354\n",
              "5             BERT   78.125000    78.180683  78.080789         32.840854"
            ]
          },
          "metadata": {},
          "output_type": "display_data"
        }
      ],
      "source": [
        "# Create a dictionary with the model names and their accuracies\n",
        "data = {'Model': ['GloVe', 'Glove (LSTM)', 'Word2Vec', 'Word2Vec (LSTM)', 'USE', 'BERT'],\n",
        "        'Accuracy %': [accuracy_glove*100, accuracy_glove_lstm*100, accuracy_word2vec*100, accuracy_word2vec_lstm*100, accuracy_use*100, accuracy_bert*100],\n",
        "        'Precision %': [precision_glove*100, precision_glove_lstm*100, precision_word2vec*100, precision_word2vec_lstm*100, precision_use*100, precision_bert*100],\n",
        "        'Recall %': [recall_glove*100, recall_glove_lstm*100, recall_word2vec*100, recall_word2vec_lstm*100, recall_use*100, recall_bert*100],\n",
        "        'Train Time (min)': [time_glove/60, time_glove_lstm/60, time_word2vec/60, time_word2vec_lstm/60, time_use/60, time_bert/60],\n",
        "        }\n",
        "\n",
        "# Create DataFrame\n",
        "df_bilan = pd.DataFrame(data)\n",
        "display(df_bilan)"
      ]
    },
    {
      "cell_type": "markdown",
      "metadata": {
        "id": "grVo3_nUxylE"
      },
      "source": [
        "We see here thanks to the final performance table that Glove with LSTM layer is the best, it trains relatively quickly, it gives good performance and is not very heavy which makes it the ideal candidate for our objective in this tweet sentiment classification project.\n",
        "\n",
        "We will now try to build a Glove with LSTM model with more training time to achieve potential better performances.."
      ]
    }
  ],
  "metadata": {
    "accelerator": "GPU",
    "colab": {
      "gpuType": "T4",
      "provenance": []
    },
    "kernelspec": {
      "display_name": "Python 3",
      "name": "python3"
    },
    "language_info": {
      "codemirror_mode": {
        "name": "ipython",
        "version": 3
      },
      "file_extension": ".py",
      "mimetype": "text/x-python",
      "name": "python",
      "nbconvert_exporter": "python",
      "pygments_lexer": "ipython3",
      "version": "3.10.0"
    }
  },
  "nbformat": 4,
  "nbformat_minor": 0
}
